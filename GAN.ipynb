{
 "cells": [
  {
   "cell_type": "markdown",
   "metadata": {},
   "source": [
    "# GAN\n",
    "\n",
    "GANでMNISTを生成する。  \n",
    "DeepConvolutionalじゃないGAN。なるべくシンプルな実装を目指す。"
   ]
  },
  {
   "cell_type": "code",
   "execution_count": null,
   "metadata": {},
   "outputs": [],
   "source": [
    "import torch\n",
    "from torch import nn, optim\n",
    "from torch.utils.data import DataLoader\n",
    "import torchvision\n",
    "from torchvision.datasets import MNIST\n",
    "from torchvision import transforms\n",
    "from IPython.display import display\n",
    "\n",
    "batch_size = 64 # バッチサイズ\n",
    "nz = 100 # 潜在変数の次元数\n",
    "device = torch.device(\"cuda\" if torch.cuda.is_available() else \"cpu\")\n",
    "device"
   ]
  },
  {
   "cell_type": "markdown",
   "metadata": {},
   "source": [
    "## MNIST"
   ]
  },
  {
   "cell_type": "code",
   "execution_count": null,
   "metadata": {},
   "outputs": [],
   "source": [
    "dataset = MNIST(\n",
    "    root=\"datasets/\",\n",
    "    train=True,\n",
    "    download=True,\n",
    "    transform=transforms.ToTensor()\n",
    ")\n",
    "\n",
    "dataloader = DataLoader(\n",
    "    dataset,\n",
    "    batch_size=batch_size,\n",
    "    shuffle=True,\n",
    "    drop_last=True # バッチサイズがずれると面倒くさいので最後は切り捨て\n",
    ")\n",
    "\n",
    "sample_x, _ = next(iter(dataloader))\n",
    "w, h = sample_x.shape[2:]\n",
    "image_size = w * h\n",
    "print(\"batch shape:\", sample_x.shape)\n",
    "print(\"width:\", w)\n",
    "print(\"height:\", h)\n",
    "print(\"image size:\", image_size)"
   ]
  },
  {
   "cell_type": "markdown",
   "metadata": {},
   "source": [
    "## Discriminator\n",
    "\n",
    "全結合とReLUで構築"
   ]
  },
  {
   "cell_type": "code",
   "execution_count": null,
   "metadata": {},
   "outputs": [],
   "source": [
    "class Discriminator(nn.Module):\n",
    "    def __init__(self):\n",
    "        super().__init__()\n",
    "        self.net = nn.Sequential(\n",
    "            nn.Flatten(), # 1x28x28 -> 784\n",
    "            nn.Linear(image_size, 512),\n",
    "            nn.ReLU(),\n",
    "            nn.Linear(512, 128),\n",
    "            nn.ReLU(),\n",
    "            nn.Linear(128, 1),\n",
    "            nn.Sigmoid(), # 確率なので0~1に\n",
    "        )\n",
    "\n",
    "    def forward(self, x):\n",
    "        y = self.net(x)\n",
    "        return y"
   ]
  },
  {
   "cell_type": "markdown",
   "metadata": {},
   "source": [
    "## Generator\n",
    "\n",
    "全結合とReLUとバッチ正規化で構築"
   ]
  },
  {
   "cell_type": "code",
   "execution_count": null,
   "metadata": {},
   "outputs": [],
   "source": [
    "class Generator(nn.Module):\n",
    "    def __init__(self):\n",
    "        super().__init__()\n",
    "        self.net = nn.Sequential(\n",
    "            self._linear(nz, 128),\n",
    "            self._linear(128, 256),\n",
    "            self._linear(256, 512),\n",
    "            nn.Linear(512, image_size),\n",
    "            nn.Sigmoid() # 濃淡を0~1に\n",
    "        )\n",
    "\n",
    "    def _linear(self, input_size, output_size):\n",
    "        return nn.Sequential(\n",
    "            nn.Linear(input_size, output_size),\n",
    "            nn.BatchNorm1d(output_size),\n",
    "            nn.ReLU()\n",
    "        )\n",
    "\n",
    "    def forward(self, x):\n",
    "        y = self.net(x)\n",
    "        y = y.view(-1, 1, w, h) # 784 -> 1x28x28\n",
    "        return y"
   ]
  },
  {
   "cell_type": "markdown",
   "metadata": {},
   "source": [
    "## 学習"
   ]
  },
  {
   "cell_type": "code",
   "execution_count": null,
   "metadata": {},
   "outputs": [],
   "source": [
    "# ノイズを生成\n",
    "def make_noise(batch_size):\n",
    "    return torch.randn(batch_size, nz, device=device)\n",
    "\n",
    "# 画像描画\n",
    "def write(netG, n_rows=1, n_cols=8, size=64):\n",
    "    z = make_noise(n_rows*n_cols)\n",
    "    images = netG(z)\n",
    "    images = transforms.Resize(size)(images)\n",
    "    img = torchvision.utils.make_grid(images, n_cols)\n",
    "    img = transforms.functional.to_pil_image(img)\n",
    "    display(img)"
   ]
  },
  {
   "cell_type": "markdown",
   "metadata": {},
   "source": [
    "今回は本物を0, 偽物を1とする。  \n",
    "Generatorが生成した偽物をDiscriminatorで判定したときに0になるように学習する。\n",
    "\n",
    "**0に近づきたい = 小さくしたい** と捉えられるので、Discriminatorの出力をそのまま**損失**として扱って逆伝播を行う\n",
    "\n",
    "ただ一般的には、Discriminatorの出力を交差エントロピーに入れたものを損失として扱う。その方が損失が指数関数になるので学習が上手く進む（多分）。  \n",
    "交差エントロピーを使うときは、0, 1の値はどっちでもいい。本物を1, 偽物を0とすることが多い気がする。"
   ]
  },
  {
   "cell_type": "code",
   "execution_count": null,
   "metadata": {},
   "outputs": [],
   "source": [
    "real_labels = torch.zeros(batch_size, 1).to(device) # 本物のラベル\n",
    "fake_labels = torch.ones(batch_size, 1).to(device) # 偽物のラベル\n",
    "criterion = nn.BCELoss()\n",
    "\n",
    "\n",
    "def train(netD, netG, optimD, optimG, n_epochs, write_interval=1):\n",
    "    # 学習モード\n",
    "    netD.train()\n",
    "    netG.train()\n",
    "\n",
    "    for epoch in range(1, n_epochs+1):\n",
    "        for x, _ in dataloader:\n",
    "            x = x.to(device)\n",
    "\n",
    "            # 勾配をリセット\n",
    "            optimD.zero_grad()\n",
    "            optimG.zero_grad()\n",
    "\n",
    "            # Discriminatorの学習\n",
    "            z = make_noise(batch_size) # ノイズを生成\n",
    "            fake = netG(z) # 偽物を生成\n",
    "            pred_fake = netD(fake) # 偽物を判定\n",
    "            pred_real = netD(x) # 本物を判定\n",
    "            loss_fake = criterion(pred_fake, fake_labels) # 偽物の判定に対する誤差\n",
    "            loss_real = criterion(pred_real, real_labels) # 本物の判定に対する誤差\n",
    "            lossD = loss_fake + loss_real # 二つの誤差の和\n",
    "            lossD.backward() # 逆伝播\n",
    "            optimD.step() # パラメータ更新\n",
    "\n",
    "            # Generatorの学習\n",
    "            fake = netG(z) # 偽物を生成\n",
    "            pred = netD(fake) # 偽物を判定\n",
    "            lossG = pred.sum() # 和をとる\n",
    "            lossG.backward() # 逆伝播\n",
    "            optimG.step() # パラメータ更新\n",
    "\n",
    "        print(f'{epoch:>3}epoch | lossD: {lossD:.4f}, lossG: {lossG:.4f}')\n",
    "        if epoch % write_interval == 0:\n",
    "            write(netG)"
   ]
  },
  {
   "cell_type": "code",
   "execution_count": null,
   "metadata": {},
   "outputs": [],
   "source": [
    "write(Generator().to(device), size=128)"
   ]
  },
  {
   "cell_type": "code",
   "execution_count": null,
   "metadata": {},
   "outputs": [],
   "source": [
    "netD = Discriminator().to(device)\n",
    "netG = Generator().to(device)\n",
    "optimD = optim.Adam(netD.parameters(), lr=0.0002)\n",
    "optimG = optim.Adam(netG.parameters(), lr=0.0002)\n",
    "n_epochs = 5\n",
    "\n",
    "print('初期状態')\n",
    "write(netG)\n",
    "train(netD, netG, optimD, optimG, n_epochs)"
   ]
  },
  {
   "cell_type": "markdown",
   "metadata": {},
   "source": [
    "いい感じに成長していそうなので、このまま30回学習させる"
   ]
  },
  {
   "cell_type": "code",
   "execution_count": null,
   "metadata": {},
   "outputs": [],
   "source": [
    "train(netD, netG, optimD, optimG, 20, write_interval=5)"
   ]
  },
  {
   "attachments": {},
   "cell_type": "markdown",
   "metadata": {},
   "source": [
    "学習完了。結果はこうなった↑。\n",
    "\n",
    "もう少したくさん見てみる"
   ]
  },
  {
   "cell_type": "code",
   "execution_count": null,
   "metadata": {},
   "outputs": [],
   "source": [
    "write(netG, 8)"
   ]
  },
  {
   "attachments": {},
   "cell_type": "markdown",
   "metadata": {},
   "source": [
    "上手く学習できた"
   ]
  }
 ],
 "metadata": {
  "kernelspec": {
   "display_name": "Python 3.9.7 ('.venv': venv)",
   "language": "python",
   "name": "python3"
  },
  "language_info": {
   "codemirror_mode": {
    "name": "ipython",
    "version": 3
   },
   "file_extension": ".py",
   "mimetype": "text/x-python",
   "name": "python",
   "nbconvert_exporter": "python",
   "pygments_lexer": "ipython3",
   "version": "3.9.7 (default, Oct 26 2022, 17:40:16) \n[GCC 9.4.0]"
  },
  "orig_nbformat": 4,
  "vscode": {
   "interpreter": {
    "hash": "d2e154008a0c351e626d1a33c87cb897d92e8d0c1f7d08dda155547637fefe3a"
   }
  }
 },
 "nbformat": 4,
 "nbformat_minor": 2
}
