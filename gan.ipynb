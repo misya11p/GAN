{
  "cells": [
    {
      "cell_type": "markdown",
      "metadata": {
        "id": "6oRHik99ghv_"
      },
      "source": [
        "# GAN\n",
        "\n",
        "*generative adversarial networks* (敵対的生成ネットワーク)\n",
        "\n",
        "<br>\n",
        "\n",
        "GANをpytorchで実装する\n",
        "\n",
        "とりあえずMNIST"
      ]
    },
    {
      "cell_type": "markdown",
      "metadata": {
        "id": "be9AVApBghwB"
      },
      "source": [
        "\n",
        "---\n",
        "\n",
        "## 必要なもの"
      ]
    },
    {
      "cell_type": "markdown",
      "metadata": {
        "id": "QoBIMDNtghwB"
      },
      "source": [
        "### ライブラリ"
      ]
    },
    {
      "cell_type": "code",
      "execution_count": 1,
      "metadata": {
        "colab": {
          "base_uri": "https://localhost:8080/",
          "height": 35
        },
        "id": "LHLH39SMghwC",
        "outputId": "8e5850bd-202f-4b92-f4b7-6753ea299378"
      },
      "outputs": [
        {
          "data": {
            "text/plain": [
              "'cpu'"
            ]
          },
          "execution_count": 1,
          "metadata": {},
          "output_type": "execute_result"
        }
      ],
      "source": [
        "import torch\n",
        "from torch import nn, optim\n",
        "from torch.utils.data import TensorDataset, DataLoader\n",
        "import torch.nn.functional as F\n",
        "import matplotlib.pyplot as plt\n",
        "\n",
        "device = 'cuda' if torch.cuda.is_available() else 'cpu'\n",
        "device"
      ]
    },
    {
      "cell_type": "markdown",
      "metadata": {
        "id": "47-W_shUghwC"
      },
      "source": [
        "### MNISTデータセット"
      ]
    },
    {
      "cell_type": "code",
      "execution_count": 30,
      "metadata": {
        "id": "kDAoIwOdghwC"
      },
      "outputs": [
        {
          "data": {
            "text/plain": [
              "torch.Size([1000, 784])"
            ]
          },
          "execution_count": 30,
          "metadata": {},
          "output_type": "execute_result"
        }
      ],
      "source": [
        "from torchvision.datasets import MNIST\n",
        "from torchvision import transforms\n",
        "\n",
        "mnist = MNIST(\n",
        "    root='./data',\n",
        "    train=False,\n",
        "    transform=transforms.ToTensor(),\n",
        "    download=True)\n",
        "\n",
        "X = mnist.data.reshape(-1, 28*28).to(device) / 255\n",
        "X = X[:1000]\n",
        "X.shape"
      ]
    },
    {
      "cell_type": "markdown",
      "metadata": {
        "id": "LyYmugvsghwD"
      },
      "source": [
        "\n",
        "---\n",
        "\n",
        "## generator\n",
        "\n",
        "生成機\n",
        "\n",
        "ノイズ(10次元ベクトル)から784次元のベクトルを生成する。  \n",
        "出力値は各ピクセルの濃淡を $0 \\sim 1$ で表すので`sigmoid`関数をかける。"
      ]
    },
    {
      "cell_type": "code",
      "execution_count": 3,
      "metadata": {},
      "outputs": [],
      "source": [
        "class Generator(nn.Module):\n",
        "    def __init__(self):\n",
        "        super().__init__()\n",
        "        self.network = nn.Sequential(\n",
        "            nn.Linear(100, 128),\n",
        "            nn.ReLU(),\n",
        "            nn.Linear(128, 512),\n",
        "            nn.ReLU(),\n",
        "            nn.Linear(512, 512),\n",
        "            nn.ReLU(),\n",
        "            nn.Linear(512, 28*28),\n",
        "            nn.Sigmoid()\n",
        "        )\n",
        "\n",
        "    def forward(self, n):\n",
        "        noises = torch.randn(n, 100)\n",
        "        return self.network(noises)"
      ]
    },
    {
      "cell_type": "markdown",
      "metadata": {
        "id": "UM5hJGcughwE"
      },
      "source": [
        "\n",
        "---\n",
        "\n",
        "## discriminator\n",
        "\n",
        "識別器。偽物である確率を出力する。"
      ]
    },
    {
      "cell_type": "code",
      "execution_count": 4,
      "metadata": {
        "id": "GwHYu7CRghwE"
      },
      "outputs": [],
      "source": [
        "class Discriminator(nn.Module):\n",
        "    def __init__(self):\n",
        "        super().__init__()\n",
        "        self.network = nn.Sequential(\n",
        "            nn.Linear(28*28, 512),\n",
        "            nn.ReLU(),\n",
        "            nn.Linear(512, 128),\n",
        "            nn.ReLU(),\n",
        "            nn.Linear(128, 32),\n",
        "            nn.ReLU(),\n",
        "            nn.Linear(32, 1),\n",
        "            nn.Sigmoid()\n",
        "        )\n",
        "\n",
        "    def forward(self, x):\n",
        "        return self.network(x)"
      ]
    },
    {
      "cell_type": "markdown",
      "metadata": {
        "id": "VkrufO1oghwE"
      },
      "source": [
        "\n",
        "---\n",
        "\n",
        "## 学習\n",
        "\n"
      ]
    },
    {
      "cell_type": "markdown",
      "metadata": {
        "id": "oNrKu4m1ghwE"
      },
      "source": [
        "### discriminator\n",
        "\n",
        "識別器の学習"
      ]
    },
    {
      "cell_type": "code",
      "execution_count": 5,
      "metadata": {
        "id": "k186uNtvghwF"
      },
      "outputs": [],
      "source": [
        "def train_disc(model, data_loader, optimizer):\n",
        "    model.train()\n",
        "    for img, label in data_loader:\n",
        "        optimizer.zero_grad()\n",
        "        y = model(img)\n",
        "        loss = F.mse_loss(label, y)\n",
        "        loss.backward(retain_graph=True)\n",
        "        optimizer.step()"
      ]
    },
    {
      "cell_type": "markdown",
      "metadata": {
        "id": "6uE3FL-nghwF"
      },
      "source": [
        "### generator\n",
        "\n",
        "生成機の学習。誤差は出力画像を識別器にかけた値(偽物である確率)。"
      ]
    },
    {
      "cell_type": "code",
      "execution_count": 6,
      "metadata": {
        "id": "kNObAtVughwF"
      },
      "outputs": [],
      "source": [
        "def train_gen(model, discriminator, optimizer, batch_size):\n",
        "    model.train()\n",
        "    optimizer.zero_grad()\n",
        "    img = model(batch_size) # 画像を生成\n",
        "    loss = discriminator(img).sum() # 偽物である確率を計算\n",
        "    loss.backward(retain_graph=True)\n",
        "    optimizer.step()\n",
        "    return img"
      ]
    },
    {
      "cell_type": "markdown",
      "metadata": {
        "id": "AlwmLrrwghwF"
      },
      "source": [
        "### 敵対\n",
        "\n",
        "二つを学習させる"
      ]
    },
    {
      "cell_type": "markdown",
      "metadata": {
        "id": "Bb81ti7MghwF"
      },
      "source": [
        "#### dataset\n",
        "\n",
        "MNISTの手書き数字のデータと生成機で生成したデータを結合したdataset(DataLoader)を作る\n",
        "\n",
        "\n",
        "データ | ラベル | \n",
        "--- | --- |\n",
        "手書き数字1 | 0\n",
        "手書き数字2 | 0\n",
        "手書き数字3 | 0\n",
        ": | : |\n",
        "生成した画像1 | 1\n",
        "生成した画像2 | 1\n",
        "生成した画像3 | 1\n",
        ": | :\n"
      ]
    },
    {
      "cell_type": "code",
      "execution_count": 7,
      "metadata": {
        "id": "4DVB4f9ighwF"
      },
      "outputs": [],
      "source": [
        "def make_dataloader(generator, X, batch_size):\n",
        "    # データ数の取得\n",
        "    n_samples = len(X)\n",
        "\n",
        "    # 同じ数だけ画像を生成\n",
        "    img = generator(n_samples)\n",
        "\n",
        "    # 結合\n",
        "    images = torch.cat((X, img))\n",
        "\n",
        "    # ラベル作成\n",
        "    zeros = torch.zeros(n_samples)\n",
        "    ones = torch.ones(n_samples)\n",
        "    labels = torch.cat((zeros, ones)).reshape(-1, 1).to(device)\n",
        "\n",
        "    # dataloader作成\n",
        "    dataset = TensorDataset(images, labels)\n",
        "    data_loader = DataLoader(\n",
        "        dataset=dataset,\n",
        "        batch_size=batch_size,\n",
        "        shuffle=True)\n",
        "\n",
        "    return data_loader"
      ]
    },
    {
      "cell_type": "code",
      "execution_count": 8,
      "metadata": {
        "id": "ZoaP9leTghwG"
      },
      "outputs": [],
      "source": [
        "def train(epochs, generator, discriminator, X, batch_size):\n",
        "    history = generator(128)\n",
        "    for epoch in range(epochs):\n",
        "        print(f'\\r{epoch + 1:>3} epoch', end='')\n",
        "        data_loader = make_dataloader(generator, X, batch_size)\n",
        "        train_disc(discriminator, data_loader, disc_optim)\n",
        "        for _ in range((len(X) // batch_size) + 1):\n",
        "            y = train_gen(generator, discriminator, gen_optim, batch_size)\n",
        "            history = torch.cat((history, y))\n",
        "    return history"
      ]
    },
    {
      "cell_type": "code",
      "execution_count": 9,
      "metadata": {
        "id": "wU_F_Om4ghwG"
      },
      "outputs": [],
      "source": [
        "def images_plot(images, n=5, size=2):\n",
        "    plt.figure(figsize=(size * n, size))\n",
        "    idx = torch.linspace(0, len(images) - 1, n).to(int)\n",
        "    for i, img in enumerate(images[idx].cpu()):\n",
        "        plt.subplot(1, n, i + 1)\n",
        "        plt.imshow(img.reshape(28, 28).detach().numpy(), cmap='gray')\n",
        "    plt.tight_layout()"
      ]
    },
    {
      "cell_type": "code",
      "execution_count": 10,
      "metadata": {
        "id": "KYgOeSvnghwG"
      },
      "outputs": [],
      "source": [
        "generator = Generator()\n",
        "discriminator = Discriminator()\n",
        "\n",
        "gen_optim = optim.Adam(generator.parameters(), lr=0.001)\n",
        "disc_optim = optim.Adam(discriminator.parameters(), lr=0.001)\n",
        "\n",
        "generator.to(device)\n",
        "discriminator.to(device);"
      ]
    },
    {
      "cell_type": "code",
      "execution_count": 11,
      "metadata": {
        "colab": {
          "base_uri": "https://localhost:8080/"
        },
        "id": "b6DtfX5TrTdh",
        "outputId": "ef44607f-34c1-439c-f848-de6e33172a52"
      },
      "outputs": [
        {
          "name": "stdout",
          "output_type": "stream",
          "text": [
            "  5 epoch"
          ]
        }
      ],
      "source": [
        "images = train(5, generator, discriminator, X, 128)"
      ]
    },
    {
      "cell_type": "code",
      "execution_count": 12,
      "metadata": {
        "colab": {
          "base_uri": "https://localhost:8080/",
          "height": 737
        },
        "id": "kmz9tKvZghwG",
        "outputId": "8d163549-3df2-49bb-861f-8771b0c54437"
      },
      "outputs": [
        {
          "data": {
            "image/png": "[encoded data removed]",
            "text/plain": [
              "<Figure size 720x144 with 5 Axes>"
            ]
          },
          "metadata": {
            "needs_background": "light"
          },
          "output_type": "display_data"
        }
      ],
      "source": [
        "images_plot(images)"
      ]
    },
    {
      "cell_type": "markdown",
      "metadata": {},
      "source": [
        "うまくいってなさそう"
      ]
    },
    {
      "cell_type": "markdown",
      "metadata": {},
      "source": [
        "\n",
        "---\n",
        "\n",
        "## 識別器を改良\n",
        "\n",
        "確率を見てみる"
      ]
    },
    {
      "cell_type": "code",
      "execution_count": 13,
      "metadata": {},
      "outputs": [
        {
          "name": "stdout",
          "output_type": "stream",
          "text": [
            "MNIST 2.2566734969586832e-06\n",
            "初期値での生成画像 0.9998689889907837\n",
            "5epoch終了時の生成画像 2.1264529827972163e-23\n"
          ]
        }
      ],
      "source": [
        "print('MNIST', discriminator(X[0]).item())\n",
        "print('初期値での生成画像', discriminator(images[0]).item())\n",
        "print('5epoch終了時の生成画像', discriminator(images[-1]).item())"
      ]
    },
    {
      "cell_type": "markdown",
      "metadata": {},
      "source": [
        "生成画像の方が本物より本物ということになっている\n",
        "\n",
        "識別器をCNNにしてみる"
      ]
    },
    {
      "cell_type": "code",
      "execution_count": 14,
      "metadata": {},
      "outputs": [],
      "source": [
        "class Discriminator(nn.Module):\n",
        "    def __init__(self):\n",
        "        super().__init__()\n",
        "        self.network = nn.Sequential(\n",
        "            nn.Conv2d(1, 64, 3, 1, 1),\n",
        "            nn.MaxPool2d(2),\n",
        "            nn.ReLU(),\n",
        "            nn.Conv2d(64, 32, 3, 1, 1),\n",
        "            nn.MaxPool2d(2),\n",
        "            nn.ReLU(),\n",
        "            nn.Flatten(),\n",
        "            nn.Linear(1568, 128),\n",
        "            nn.ReLU(),\n",
        "            nn.Linear(128, 1),\n",
        "            nn.Sigmoid()\n",
        "        )\n",
        "\n",
        "    def forward(self, x):\n",
        "        x = x.reshape(-1, 1, 28, 28)\n",
        "        return self.network(x)"
      ]
    },
    {
      "cell_type": "code",
      "execution_count": 15,
      "metadata": {},
      "outputs": [],
      "source": [
        "generator = Generator()\n",
        "discriminator = Discriminator()\n",
        "\n",
        "gen_optim = optim.Adam(generator.parameters(), lr=0.001)\n",
        "disc_optim = optim.Adam(discriminator.parameters(), lr=0.001)\n",
        "\n",
        "generator.to(device)\n",
        "discriminator.to(device);"
      ]
    },
    {
      "cell_type": "code",
      "execution_count": 16,
      "metadata": {},
      "outputs": [
        {
          "name": "stdout",
          "output_type": "stream",
          "text": [
            "  5 epoch"
          ]
        }
      ],
      "source": [
        "images = train(5, generator, discriminator, X, 128)"
      ]
    },
    {
      "cell_type": "code",
      "execution_count": 17,
      "metadata": {},
      "outputs": [
        {
          "data": {
            "image/png": "[encoded data removed]",
            "text/plain": [
              "<Figure size 720x144 with 5 Axes>"
            ]
          },
          "metadata": {
            "needs_background": "light"
          },
          "output_type": "display_data"
        }
      ],
      "source": [
        "images_plot(images)"
      ]
    },
    {
      "cell_type": "markdown",
      "metadata": {},
      "source": [
        "確率"
      ]
    },
    {
      "cell_type": "code",
      "execution_count": 18,
      "metadata": {},
      "outputs": [
        {
          "name": "stdout",
          "output_type": "stream",
          "text": [
            "MNIST 8.832439224448763e-10\n",
            "最初期の生成画像 0.9999611377716064\n",
            "5epoch終了時の生成画像 1.8402631194602029e-16\n"
          ]
        }
      ],
      "source": [
        "print('MNIST', discriminator(X[0]).item())\n",
        "print('初期値での生成画像', discriminator(images[0]).item())\n",
        "print('5epoch終了時の生成画像', discriminator(images[-1]).item())"
      ]
    },
    {
      "cell_type": "markdown",
      "metadata": {},
      "source": [
        "やはり識別器が弱すぎる"
      ]
    },
    {
      "cell_type": "markdown",
      "metadata": {},
      "source": [
        "\n",
        "---\n",
        "\n",
        "## 生成器を改良する\n",
        "\n",
        "生成器もいじってみる\n",
        "\n",
        "参考サイトのものをコピペ\n",
        "\n",
        "参考  \n",
        "[pytorchでDCGANを作成しMNISTのフェイク画像を生成する - Qiita](https://qiita.com/miso_taku/items/a34f6b598d2c8988d18c)"
      ]
    },
    {
      "cell_type": "code",
      "execution_count": 31,
      "metadata": {
        "id": "H3jv9K-Qipb0"
      },
      "outputs": [],
      "source": [
        "class Generator(nn.Module):\n",
        "    def __init__(self):\n",
        "        super().__init__()\n",
        "        self.network = nn.Sequential(\n",
        "            self.conv_trans_layers(100, 512, 3, 1, 0),\n",
        "            self.conv_trans_layers(512, 256, 3, 2, 0),\n",
        "            self.conv_trans_layers(256, 128, 4, 2, 1),\n",
        "            self.conv_trans_layers(128, 1, 4, 2, 1),\n",
        "            nn.Flatten()\n",
        "        )\n",
        "\n",
        "    @staticmethod\n",
        "    def conv_trans_layers(\n",
        "        in_channels,\n",
        "        out_channels,\n",
        "        kernel_size,\n",
        "        stride,\n",
        "        padding\n",
        "    ):\n",
        "        net = nn.Sequential(\n",
        "            nn.ConvTranspose2d(\n",
        "                in_channels, out_channels, kernel_size, stride, padding), \n",
        "            nn.BatchNorm2d(out_channels),\n",
        "            nn.ReLU(inplace=True)\n",
        "        )\n",
        "        return net\n",
        "\n",
        "    def forward(self, n_samples):\n",
        "        noises = torch.randn(n_samples, 100, 1, 1)\n",
        "        return self.network(noises)"
      ]
    },
    {
      "cell_type": "code",
      "execution_count": 32,
      "metadata": {},
      "outputs": [],
      "source": [
        "generator = Generator()\n",
        "discriminator = Discriminator()\n",
        "\n",
        "gen_optim = optim.Adam(generator.parameters(), lr=0.001)\n",
        "disc_optim = optim.Adam(discriminator.parameters(), lr=0.001)\n",
        "\n",
        "generator.to(device)\n",
        "discriminator.to(device)\n",
        "\n",
        "history = []"
      ]
    },
    {
      "cell_type": "code",
      "execution_count": 33,
      "metadata": {},
      "outputs": [
        {
          "name": "stdout",
          "output_type": "stream",
          "text": [
            "  5 epoch"
          ]
        }
      ],
      "source": [
        "images = train(5, generator, discriminator, X, 128)"
      ]
    },
    {
      "cell_type": "code",
      "execution_count": 34,
      "metadata": {},
      "outputs": [
        {
          "data": {
            "image/png": "[encoded data removed]",
            "text/plain": [
              "<Figure size 720x144 with 5 Axes>"
            ]
          },
          "metadata": {
            "needs_background": "light"
          },
          "output_type": "display_data"
        }
      ],
      "source": [
        "images_plot(images)"
      ]
    },
    {
      "cell_type": "code",
      "execution_count": 35,
      "metadata": {},
      "outputs": [
        {
          "name": "stdout",
          "output_type": "stream",
          "text": [
            "MNIST 0.1686025857925415\n",
            "最初期の生成画像 0.9999998807907104\n",
            "5epoch終了時の生成画像 0.4881421625614166\n"
          ]
        }
      ],
      "source": [
        "print('MNIST', discriminator(X[0]).item())\n",
        "print('初期値での生成画像', discriminator(images[0]).item())\n",
        "print('5epoch終了時の生成画像', discriminator(images[-1]).item())"
      ]
    }
  ],
  "metadata": {
    "accelerator": "GPU",
    "colab": {
      "collapsed_sections": [],
      "name": "gan.ipynb",
      "provenance": []
    },
    "interpreter": {
      "hash": "37ed3b1c5e2780b0e8a5da5fb8b92ea58c827ecdcf5d33315c46ca232b094762"
    },
    "kernelspec": {
      "display_name": "Python 3.9.7 ('.venv': venv)",
      "language": "python",
      "name": "python3"
    },
    "language_info": {
      "codemirror_mode": {
        "name": "ipython",
        "version": 3
      },
      "file_extension": ".py",
      "mimetype": "text/x-python",
      "name": "python",
      "nbconvert_exporter": "python",
      "pygments_lexer": "ipython3",
      "version": "3.9.6"
    },
    "orig_nbformat": 4
  },
  "nbformat": 4,
  "nbformat_minor": 0
}
