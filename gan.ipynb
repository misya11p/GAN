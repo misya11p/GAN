{
  "cells": [
    {
      "cell_type": "markdown",
      "metadata": {
        "id": "6oRHik99ghv_"
      },
      "source": [
        "# GAN\n",
        "\n",
        "*generative adversarial networks* (敵対的生成ネットワーク)\n",
        "\n",
        "<br>\n",
        "\n",
        "GANをpytorchで実装する\n",
        "\n",
        "とりあえずMNIST"
      ]
    },
    {
      "cell_type": "markdown",
      "metadata": {
        "id": "be9AVApBghwB"
      },
      "source": [
        "\n",
        "---\n",
        "\n",
        "## 必要なもの"
      ]
    },
    {
      "cell_type": "markdown",
      "metadata": {
        "id": "QoBIMDNtghwB"
      },
      "source": [
        "### ライブラリ"
      ]
    },
    {
      "cell_type": "code",
      "execution_count": 1,
      "metadata": {
        "colab": {
          "base_uri": "https://localhost:8080/",
          "height": 35
        },
        "id": "LHLH39SMghwC",
        "outputId": "8e5850bd-202f-4b92-f4b7-6753ea299378"
      },
      "outputs": [
        {
          "data": {
            "text/plain": [
              "'cpu'"
            ]
          },
          "execution_count": 1,
          "metadata": {},
          "output_type": "execute_result"
        }
      ],
      "source": [
        "import torch\n",
        "from torch import nn, optim\n",
        "from torch.utils.data import TensorDataset, DataLoader\n",
        "import torch.nn.functional as F\n",
        "import matplotlib.pyplot as plt\n",
        "\n",
        "device = 'cuda' if torch.cuda.is_available() else 'cpu'\n",
        "device"
      ]
    },
    {
      "cell_type": "markdown",
      "metadata": {
        "id": "47-W_shUghwC"
      },
      "source": [
        "### MNISTデータセット"
      ]
    },
    {
      "cell_type": "code",
      "execution_count": 2,
      "metadata": {
        "id": "kDAoIwOdghwC"
      },
      "outputs": [],
      "source": [
        "from torchvision.datasets import MNIST\n",
        "from torchvision import transforms\n",
        "\n",
        "mnist = MNIST(\n",
        "    root='./data',\n",
        "    train=False,\n",
        "    transform=transforms.ToTensor(),\n",
        "    download=True)\n",
        "\n",
        "X = mnist.data.to(torch.float).reshape(-1, 28*28).to(device)"
      ]
    },
    {
      "cell_type": "markdown",
      "metadata": {
        "id": "LyYmugvsghwD"
      },
      "source": [
        "\n",
        "---\n",
        "\n",
        "## generator\n",
        "\n",
        "生成機\n",
        "\n",
        "ノイズ(10次元ベクトル)から784次元のベクトルを生成する。  \n",
        "出力値は各ピクセルの濃淡を $0 \\sim 1$ で表すので`sigmoid`関数をかける。"
      ]
    },
    {
      "cell_type": "code",
      "execution_count": 3,
      "metadata": {
        "id": "xulZgVreghwD"
      },
      "outputs": [],
      "source": [
        "class Generator(nn.Module):\n",
        "    def __init__(self):\n",
        "        super().__init__()\n",
        "        self.network = nn.Sequential(\n",
        "            nn.Linear(100, 128),\n",
        "            nn.LeakyReLU(),\n",
        "            nn.Linear(128, 512),\n",
        "            nn.LeakyReLU(),\n",
        "            nn.Linear(512, 512),\n",
        "            nn.LeakyReLU(),\n",
        "            nn.Linear(512, 28*28),\n",
        "            nn.Sigmoid()\n",
        "        )\n",
        "\n",
        "    def forward(self, x):\n",
        "        return self.network(x)"
      ]
    },
    {
      "cell_type": "markdown",
      "metadata": {
        "id": "UM5hJGcughwE"
      },
      "source": [
        "\n",
        "---\n",
        "\n",
        "## discriminator\n",
        "\n",
        "識別器。偽物である確率を出力する。"
      ]
    },
    {
      "cell_type": "code",
      "execution_count": 4,
      "metadata": {
        "id": "GwHYu7CRghwE"
      },
      "outputs": [],
      "source": [
        "class Discriminator(nn.Module):\n",
        "    def __init__(self):\n",
        "        super().__init__()\n",
        "        self.network = nn.Sequential(\n",
        "            nn.Linear(28*28, 512),\n",
        "            nn.ReLU(),\n",
        "            nn.Linear(512, 128),\n",
        "            nn.ReLU(),\n",
        "            nn.Linear(128, 32),\n",
        "            nn.ReLU(),\n",
        "            nn.Linear(32, 1),\n",
        "            nn.Sigmoid()\n",
        "        )\n",
        "\n",
        "    def forward(self, x):\n",
        "        return self.network(x)"
      ]
    },
    {
      "cell_type": "markdown",
      "metadata": {
        "id": "VkrufO1oghwE"
      },
      "source": [
        "\n",
        "---\n",
        "\n",
        "## 学習\n",
        "\n"
      ]
    },
    {
      "cell_type": "markdown",
      "metadata": {
        "id": "oNrKu4m1ghwE"
      },
      "source": [
        "### discriminator\n",
        "\n",
        "識別器の学習"
      ]
    },
    {
      "cell_type": "code",
      "execution_count": 5,
      "metadata": {
        "id": "k186uNtvghwF"
      },
      "outputs": [],
      "source": [
        "def train_disc(model, data_loader, optimizer):\n",
        "    model.train()\n",
        "    for img, label in data_loader:\n",
        "        optimizer.zero_grad()\n",
        "        y = model(img)\n",
        "        loss = F.mse_loss(label, y)\n",
        "        loss.backward(retain_graph=True)\n",
        "        optimizer.step()"
      ]
    },
    {
      "cell_type": "markdown",
      "metadata": {
        "id": "6uE3FL-nghwF"
      },
      "source": [
        "### generator\n",
        "\n",
        "生成機の学習。誤差は出力画像を識別器に入れた値(偽物である確率)。"
      ]
    },
    {
      "cell_type": "code",
      "execution_count": 6,
      "metadata": {
        "id": "kNObAtVughwF"
      },
      "outputs": [],
      "source": [
        "def train_gen(model, discriminator, epochs, batch_size, optimizer):\n",
        "    model.train()\n",
        "    for _ in range(epochs):\n",
        "        optimizer.zero_grad()\n",
        "        noises = torch.randn(batch_size, 100).to(device) # バッチサイズ分のノイズを生成\n",
        "        img = model(noises) # ノイズから画像を生成\n",
        "        loss = discriminator(img).mean() # 偽物である確率を計算\n",
        "        loss.backward(retain_graph=True)\n",
        "        optimizer.step()\n",
        "    return img"
      ]
    },
    {
      "cell_type": "markdown",
      "metadata": {
        "id": "AlwmLrrwghwF"
      },
      "source": [
        "### 敵対\n",
        "\n",
        "二つを学習させる"
      ]
    },
    {
      "cell_type": "markdown",
      "metadata": {
        "id": "Bb81ti7MghwF"
      },
      "source": [
        "#### dataset\n",
        "\n",
        "MNISTの手書き数字のデータと生成機で生成したデータを結合したdataset(DataLoader)を作る\n",
        "\n",
        "\n",
        "データ | ラベル | \n",
        "--- | --- |\n",
        "手書き数字1 | 0\n",
        "手書き数字2 | 0\n",
        "手書き数字3 | 0\n",
        ": | : |\n",
        "生成した画像1 | 1\n",
        "生成した画像2 | 1\n",
        "生成した画像3 | 1\n",
        ": | :\n"
      ]
    },
    {
      "cell_type": "code",
      "execution_count": 7,
      "metadata": {
        "id": "4DVB4f9ighwF"
      },
      "outputs": [],
      "source": [
        "def make_dataloader(generator, X):\n",
        "    data_num = len(X) # データ数の取得\n",
        "\n",
        "    # 同じ数だけ画像を生成\n",
        "    noises = torch.randn(data_num, 100).to(device)\n",
        "    img = generator(noises)\n",
        "\n",
        "    # 決合し、一つのDataLoaderを生成\n",
        "    images = torch.cat((X, img))\n",
        "    labels = torch.FloatTensor([0]*data_num + [1]*data_num).reshape(-1, 1).to(device)\n",
        "    dataset = TensorDataset(images, labels)\n",
        "    data_loader = DataLoader(\n",
        "        dataset=dataset,\n",
        "        batch_size=batch_size,\n",
        "        shuffle=True)\n",
        "\n",
        "    return data_loader"
      ]
    },
    {
      "cell_type": "code",
      "execution_count": 8,
      "metadata": {
        "id": "e8F1PsCtghwG"
      },
      "outputs": [],
      "source": [
        "batch_size = 128"
      ]
    },
    {
      "cell_type": "code",
      "execution_count": 14,
      "metadata": {
        "id": "KYgOeSvnghwG"
      },
      "outputs": [],
      "source": [
        "generator = Generator()\n",
        "discriminator = Discriminator()\n",
        "\n",
        "gen_optim = optim.Adam(generator.parameters(), lr=0.001)\n",
        "disc_optim = optim.Adam(discriminator.parameters(), lr=0.0001)\n",
        "\n",
        "history = []"
      ]
    },
    {
      "cell_type": "code",
      "execution_count": 10,
      "metadata": {
        "id": "H3jv9K-Qipb0"
      },
      "outputs": [],
      "source": [
        "generator.to(device)\n",
        "discriminator.to(device);"
      ]
    },
    {
      "cell_type": "code",
      "execution_count": 11,
      "metadata": {
        "id": "ZoaP9leTghwG"
      },
      "outputs": [],
      "source": [
        "def train(epochs):\n",
        "    for epoch in range(epochs):\n",
        "        # if not epoch % 10:\n",
        "        print(f'{epoch + 1:>3} epoch')\n",
        "        data_loader = make_dataloader(generator, X)\n",
        "        train_disc(discriminator, data_loader, disc_optim)\n",
        "        y = train_gen(\n",
        "            generator,\n",
        "            discriminator,\n",
        "            int(len(X) / batch_size) + 1,\n",
        "            batch_size,\n",
        "            gen_optim)\n",
        "        history.append(y)"
      ]
    },
    {
      "cell_type": "code",
      "execution_count": 12,
      "metadata": {
        "id": "wU_F_Om4ghwG"
      },
      "outputs": [],
      "source": [
        "def images_plot(images, size=2):\n",
        "    plt.figure(figsize=(size * len(images), size))\n",
        "    for i, img in enumerate(images.cpu()):\n",
        "        plt.subplot(1, len(images), i + 1)\n",
        "        plt.imshow(img.reshape(28, 28).detach().numpy(), cmap='gray')\n",
        "    plt.tight_layout()"
      ]
    },
    {
      "cell_type": "code",
      "execution_count": 15,
      "metadata": {
        "colab": {
          "base_uri": "https://localhost:8080/"
        },
        "id": "b6DtfX5TrTdh",
        "outputId": "ef44607f-34c1-439c-f848-de6e33172a52"
      },
      "outputs": [
        {
          "name": "stdout",
          "output_type": "stream",
          "text": [
            "  1 epoch\n",
            "  2 epoch\n"
          ]
        },
        {
          "ename": "KeyboardInterrupt",
          "evalue": "",
          "output_type": "error",
          "traceback": [
            "\u001b[0;31m---------------------------------------------------------------------------\u001b[0m",
            "\u001b[0;31mKeyboardInterrupt\u001b[0m                         Traceback (most recent call last)",
            "\u001b[1;32m/Users/komiya/Private/study/GAN/gan_c.ipynb Cell 24'\u001b[0m in \u001b[0;36m<cell line: 1>\u001b[0;34m()\u001b[0m\n\u001b[0;32m----> <a href='vscode-notebook-cell:/Users/komiya/Private/study/GAN/gan_c.ipynb#ch0000023?line=0'>1</a>\u001b[0m train(\u001b[39m10\u001b[39;49m)\n",
            "\u001b[1;32m/Users/komiya/Private/study/GAN/gan_c.ipynb Cell 22'\u001b[0m in \u001b[0;36mtrain\u001b[0;34m(epochs)\u001b[0m\n\u001b[1;32m      <a href='vscode-notebook-cell:/Users/komiya/Private/study/GAN/gan_c.ipynb#ch0000021?line=3'>4</a>\u001b[0m \u001b[39mprint\u001b[39m(\u001b[39mf\u001b[39m\u001b[39m'\u001b[39m\u001b[39m{\u001b[39;00mepoch \u001b[39m+\u001b[39m \u001b[39m1\u001b[39m\u001b[39m:\u001b[39;00m\u001b[39m>3\u001b[39m\u001b[39m}\u001b[39;00m\u001b[39m epoch\u001b[39m\u001b[39m'\u001b[39m)\n\u001b[1;32m      <a href='vscode-notebook-cell:/Users/komiya/Private/study/GAN/gan_c.ipynb#ch0000021?line=4'>5</a>\u001b[0m data_loader \u001b[39m=\u001b[39m make_dataloader(generator, X)\n\u001b[0;32m----> <a href='vscode-notebook-cell:/Users/komiya/Private/study/GAN/gan_c.ipynb#ch0000021?line=5'>6</a>\u001b[0m train_disc(discriminator, data_loader, disc_optim)\n\u001b[1;32m      <a href='vscode-notebook-cell:/Users/komiya/Private/study/GAN/gan_c.ipynb#ch0000021?line=6'>7</a>\u001b[0m y \u001b[39m=\u001b[39m train_gen(\n\u001b[1;32m      <a href='vscode-notebook-cell:/Users/komiya/Private/study/GAN/gan_c.ipynb#ch0000021?line=7'>8</a>\u001b[0m     generator,\n\u001b[1;32m      <a href='vscode-notebook-cell:/Users/komiya/Private/study/GAN/gan_c.ipynb#ch0000021?line=8'>9</a>\u001b[0m     discriminator,\n\u001b[1;32m     <a href='vscode-notebook-cell:/Users/komiya/Private/study/GAN/gan_c.ipynb#ch0000021?line=9'>10</a>\u001b[0m     \u001b[39mint\u001b[39m(\u001b[39mlen\u001b[39m(X) \u001b[39m/\u001b[39m batch_size) \u001b[39m+\u001b[39m \u001b[39m1\u001b[39m,\n\u001b[1;32m     <a href='vscode-notebook-cell:/Users/komiya/Private/study/GAN/gan_c.ipynb#ch0000021?line=10'>11</a>\u001b[0m     batch_size,\n\u001b[1;32m     <a href='vscode-notebook-cell:/Users/komiya/Private/study/GAN/gan_c.ipynb#ch0000021?line=11'>12</a>\u001b[0m     gen_optim)\n\u001b[1;32m     <a href='vscode-notebook-cell:/Users/komiya/Private/study/GAN/gan_c.ipynb#ch0000021?line=12'>13</a>\u001b[0m history\u001b[39m.\u001b[39mappend(y)\n",
            "\u001b[1;32m/Users/komiya/Private/study/GAN/gan_c.ipynb Cell 13'\u001b[0m in \u001b[0;36mtrain_disc\u001b[0;34m(model, data_loader, optimizer)\u001b[0m\n\u001b[1;32m      <a href='vscode-notebook-cell:/Users/komiya/Private/study/GAN/gan_c.ipynb#ch0000012?line=4'>5</a>\u001b[0m y \u001b[39m=\u001b[39m model(img)\n\u001b[1;32m      <a href='vscode-notebook-cell:/Users/komiya/Private/study/GAN/gan_c.ipynb#ch0000012?line=5'>6</a>\u001b[0m loss \u001b[39m=\u001b[39m F\u001b[39m.\u001b[39mmse_loss(label, y)\n\u001b[0;32m----> <a href='vscode-notebook-cell:/Users/komiya/Private/study/GAN/gan_c.ipynb#ch0000012?line=6'>7</a>\u001b[0m loss\u001b[39m.\u001b[39;49mbackward(retain_graph\u001b[39m=\u001b[39;49m\u001b[39mTrue\u001b[39;49;00m)\n\u001b[1;32m      <a href='vscode-notebook-cell:/Users/komiya/Private/study/GAN/gan_c.ipynb#ch0000012?line=7'>8</a>\u001b[0m optimizer\u001b[39m.\u001b[39mstep()\n",
            "File \u001b[0;32m~/Private/study/GAN/.venv/lib/python3.9/site-packages/torch/_tensor.py:363\u001b[0m, in \u001b[0;36mTensor.backward\u001b[0;34m(self, gradient, retain_graph, create_graph, inputs)\u001b[0m\n\u001b[1;32m    <a href='file:///Users/komiya/Private/study/GAN/.venv/lib/python3.9/site-packages/torch/_tensor.py?line=353'>354</a>\u001b[0m \u001b[39mif\u001b[39;00m has_torch_function_unary(\u001b[39mself\u001b[39m):\n\u001b[1;32m    <a href='file:///Users/komiya/Private/study/GAN/.venv/lib/python3.9/site-packages/torch/_tensor.py?line=354'>355</a>\u001b[0m     \u001b[39mreturn\u001b[39;00m handle_torch_function(\n\u001b[1;32m    <a href='file:///Users/komiya/Private/study/GAN/.venv/lib/python3.9/site-packages/torch/_tensor.py?line=355'>356</a>\u001b[0m         Tensor\u001b[39m.\u001b[39mbackward,\n\u001b[1;32m    <a href='file:///Users/komiya/Private/study/GAN/.venv/lib/python3.9/site-packages/torch/_tensor.py?line=356'>357</a>\u001b[0m         (\u001b[39mself\u001b[39m,),\n\u001b[0;32m   (...)\u001b[0m\n\u001b[1;32m    <a href='file:///Users/komiya/Private/study/GAN/.venv/lib/python3.9/site-packages/torch/_tensor.py?line=360'>361</a>\u001b[0m         create_graph\u001b[39m=\u001b[39mcreate_graph,\n\u001b[1;32m    <a href='file:///Users/komiya/Private/study/GAN/.venv/lib/python3.9/site-packages/torch/_tensor.py?line=361'>362</a>\u001b[0m         inputs\u001b[39m=\u001b[39minputs)\n\u001b[0;32m--> <a href='file:///Users/komiya/Private/study/GAN/.venv/lib/python3.9/site-packages/torch/_tensor.py?line=362'>363</a>\u001b[0m torch\u001b[39m.\u001b[39;49mautograd\u001b[39m.\u001b[39;49mbackward(\u001b[39mself\u001b[39;49m, gradient, retain_graph, create_graph, inputs\u001b[39m=\u001b[39;49minputs)\n",
            "File \u001b[0;32m~/Private/study/GAN/.venv/lib/python3.9/site-packages/torch/autograd/__init__.py:173\u001b[0m, in \u001b[0;36mbackward\u001b[0;34m(tensors, grad_tensors, retain_graph, create_graph, grad_variables, inputs)\u001b[0m\n\u001b[1;32m    <a href='file:///Users/komiya/Private/study/GAN/.venv/lib/python3.9/site-packages/torch/autograd/__init__.py?line=167'>168</a>\u001b[0m     retain_graph \u001b[39m=\u001b[39m create_graph\n\u001b[1;32m    <a href='file:///Users/komiya/Private/study/GAN/.venv/lib/python3.9/site-packages/torch/autograd/__init__.py?line=169'>170</a>\u001b[0m \u001b[39m# The reason we repeat same the comment below is that\u001b[39;00m\n\u001b[1;32m    <a href='file:///Users/komiya/Private/study/GAN/.venv/lib/python3.9/site-packages/torch/autograd/__init__.py?line=170'>171</a>\u001b[0m \u001b[39m# some Python versions print out the first line of a multi-line function\u001b[39;00m\n\u001b[1;32m    <a href='file:///Users/komiya/Private/study/GAN/.venv/lib/python3.9/site-packages/torch/autograd/__init__.py?line=171'>172</a>\u001b[0m \u001b[39m# calls in the traceback and some print out the last line\u001b[39;00m\n\u001b[0;32m--> <a href='file:///Users/komiya/Private/study/GAN/.venv/lib/python3.9/site-packages/torch/autograd/__init__.py?line=172'>173</a>\u001b[0m Variable\u001b[39m.\u001b[39;49m_execution_engine\u001b[39m.\u001b[39;49mrun_backward(  \u001b[39m# Calls into the C++ engine to run the backward pass\u001b[39;49;00m\n\u001b[1;32m    <a href='file:///Users/komiya/Private/study/GAN/.venv/lib/python3.9/site-packages/torch/autograd/__init__.py?line=173'>174</a>\u001b[0m     tensors, grad_tensors_, retain_graph, create_graph, inputs,\n\u001b[1;32m    <a href='file:///Users/komiya/Private/study/GAN/.venv/lib/python3.9/site-packages/torch/autograd/__init__.py?line=174'>175</a>\u001b[0m     allow_unreachable\u001b[39m=\u001b[39;49m\u001b[39mTrue\u001b[39;49;00m, accumulate_grad\u001b[39m=\u001b[39;49m\u001b[39mTrue\u001b[39;49;00m)\n",
            "\u001b[0;31mKeyboardInterrupt\u001b[0m: "
          ]
        }
      ],
      "source": [
        "train(10)"
      ]
    },
    {
      "cell_type": "code",
      "execution_count": null,
      "metadata": {},
      "outputs": [],
      "source": [
        "images_plot(history[-1][:5])"
      ]
    },
    {
      "cell_type": "code",
      "execution_count": null,
      "metadata": {
        "colab": {
          "base_uri": "https://localhost:8080/"
        },
        "id": "lMyrmkFCrYMS",
        "outputId": "c7c27a8f-ef4f-4dfc-d131-6ef8f3e46314"
      },
      "outputs": [
        {
          "name": "stdout",
          "output_type": "stream",
          "text": [
            "  1 epoch\n",
            "  2 epoch\n",
            "  3 epoch\n",
            "  4 epoch\n",
            "  5 epoch\n",
            "  6 epoch\n",
            "  7 epoch\n",
            "  8 epoch\n",
            "  9 epoch\n",
            " 10 epoch\n"
          ]
        }
      ],
      "source": [
        "train(10)"
      ]
    },
    {
      "cell_type": "code",
      "execution_count": null,
      "metadata": {},
      "outputs": [],
      "source": [
        "images_plot(history[-1][:5])"
      ]
    },
    {
      "cell_type": "code",
      "execution_count": null,
      "metadata": {
        "colab": {
          "base_uri": "https://localhost:8080/",
          "height": 737
        },
        "id": "kmz9tKvZghwG",
        "outputId": "8d163549-3df2-49bb-861f-8771b0c54437"
      },
      "outputs": [
        {
          "data": {
            "image/png": "[encoded data removed]",
            "text/plain": [
              "<Figure size 720x144 with 5 Axes>"
            ]
          },
          "metadata": {
            "needs_background": "light"
          },
          "output_type": "display_data"
        },
        {
          "data": {
            "image/png": "[encoded data removed]",
            "text/plain": [
              "<Figure size 720x144 with 5 Axes>"
            ]
          },
          "metadata": {
            "needs_background": "light"
          },
          "output_type": "display_data"
        },
        {
          "data": {
            "image/png": "[encoded data removed]",
            "text/plain": [
              "<Figure size 720x144 with 5 Axes>"
            ]
          },
          "metadata": {
            "needs_background": "light"
          },
          "output_type": "display_data"
        },
        {
          "data": {
            "image/png": "[encoded data removed]",
            "text/plain": [
              "<Figure size 720x144 with 5 Axes>"
            ]
          },
          "metadata": {
            "needs_background": "light"
          },
          "output_type": "display_data"
        },
        {
          "data": {
            "image/png": "[encoded data removed]",
            "text/plain": [
              "<Figure size 720x144 with 5 Axes>"
            ]
          },
          "metadata": {
            "needs_background": "light"
          },
          "output_type": "display_data"
        }
      ],
      "source": [
        "for images in history[::-50][::-1]:\n",
        "    images_plot(images[:5])"
      ]
    },
    {
      "cell_type": "code",
      "execution_count": null,
      "metadata": {
        "id": "Ul-RHKQhpcfs"
      },
      "outputs": [],
      "source": []
    }
  ],
  "metadata": {
    "accelerator": "GPU",
    "colab": {
      "collapsed_sections": [],
      "name": "gan.ipynb",
      "provenance": []
    },
    "interpreter": {
      "hash": "37ed3b1c5e2780b0e8a5da5fb8b92ea58c827ecdcf5d33315c46ca232b094762"
    },
    "kernelspec": {
      "display_name": "Python 3.9.7 ('.venv': venv)",
      "language": "python",
      "name": "python3"
    },
    "language_info": {
      "codemirror_mode": {
        "name": "ipython",
        "version": 3
      },
      "file_extension": ".py",
      "mimetype": "text/x-python",
      "name": "python",
      "nbconvert_exporter": "python",
      "pygments_lexer": "ipython3",
      "version": "3.9.6"
    },
    "orig_nbformat": 4
  },
  "nbformat": 4,
  "nbformat_minor": 0
}
