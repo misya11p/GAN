{
 "cells": [
  {
   "cell_type": "markdown",
   "metadata": {},
   "source": [
    "# CGAN\n",
    "\n",
    "*Conditional GAN*\n",
    "\n",
    "条件付きGAN。与えた条件に沿った画像を生成する。  \n",
    "「条件」を表すベクトルをGenerator, Discriminatorの両方に与える。与え方はいろいろある。\n",
    "\n",
    "MNISTを使って、指定した数字の手書き数字画像を生成する"
   ]
  },
  {
   "cell_type": "code",
   "execution_count": null,
   "metadata": {},
   "outputs": [],
   "source": [
    "import torch\n",
    "from torch import nn, optim\n",
    "from torch.utils.data import DataLoader\n",
    "import torchvision\n",
    "from torchvision.datasets import MNIST\n",
    "from torchvision import transforms\n",
    "from IPython.display import display\n",
    "\n",
    "batch_size = 64\n",
    "nz = 100\n",
    "noise_std = 0.7\n",
    "device = torch.device(\"cuda\" if torch.cuda.is_available() else \"cpu\")\n",
    "device"
   ]
  },
  {
   "cell_type": "markdown",
   "metadata": {},
   "source": [
    "## MNIST"
   ]
  },
  {
   "cell_type": "code",
   "execution_count": null,
   "metadata": {},
   "outputs": [],
   "source": [
    "dataset = MNIST(\n",
    "    root=\"datasets/\",\n",
    "    train=True,\n",
    "    download=True,\n",
    "    transform=transforms.ToTensor()\n",
    ")\n",
    "\n",
    "dataloader = DataLoader(\n",
    "    dataset,\n",
    "    batch_size=batch_size,\n",
    "    shuffle=True,\n",
    "    drop_last=True\n",
    ")\n",
    "\n",
    "sample_x, _ = next(iter(dataloader))\n",
    "n_classes = len(torch.unique(dataset.targets))\n",
    "w, h = sample_x.shape[-2:]\n",
    "image_size = w * h\n",
    "print(\"batch shape:\", sample_x.shape)\n",
    "print(\"width:\", w)\n",
    "print(\"height:\", h)\n",
    "print(\"image size:\", image_size)\n",
    "print(\"num classes:\", n_classes)"
   ]
  },
  {
   "attachments": {},
   "cell_type": "markdown",
   "metadata": {},
   "source": [
    "## Discriminator\n",
    "\n",
    "入力するベクトルの末尾に条件ベクトルを結合する"
   ]
  },
  {
   "cell_type": "code",
   "execution_count": null,
   "metadata": {},
   "outputs": [],
   "source": [
    "class Discriminator(nn.Module):\n",
    "    def __init__(self):\n",
    "        super().__init__()\n",
    "        self.net = nn.Sequential(\n",
    "            nn.Linear(image_size + n_classes, 512),\n",
    "            nn.ReLU(),\n",
    "            nn.Linear(512, 128),\n",
    "            nn.ReLU(),\n",
    "            nn.Linear(128, 1),\n",
    "            nn.Sigmoid()\n",
    "        )\n",
    "        self._eye = torch.eye(n_classes, device=device) # 条件ベクトル生成用の単位行列\n",
    "\n",
    "    def forward(self, x, labels):\n",
    "        labels = self._eye[labels] # 条件(ラベル)をone-hotベクトルに\n",
    "        x = x.view(batch_size, -1) # 画像を1次元に\n",
    "        x = torch.cat([x, labels], dim=1) # 画像と条件を結合\n",
    "        y = self.net(x)\n",
    "        return y"
   ]
  },
  {
   "cell_type": "markdown",
   "metadata": {},
   "source": [
    "## Generator\n",
    "\n",
    "今回は、条件の情報はノイズに持たせるので、ここでは何もしない"
   ]
  },
  {
   "cell_type": "code",
   "execution_count": null,
   "metadata": {},
   "outputs": [],
   "source": [
    "class Generator(nn.Module):\n",
    "    def __init__(self):\n",
    "        super().__init__()\n",
    "        self.net = nn.Sequential(\n",
    "            self._linear(nz, 128),\n",
    "            self._linear(128, 256),\n",
    "            self._linear(256, 512),\n",
    "            nn.Linear(512, image_size),\n",
    "            nn.Sigmoid() # 濃淡を0~1に\n",
    "        )\n",
    "\n",
    "    def _linear(self, input_size, output_size):\n",
    "        return nn.Sequential(\n",
    "            nn.Linear(input_size, output_size),\n",
    "            nn.BatchNorm1d(output_size),\n",
    "            nn.ReLU()\n",
    "        )\n",
    "\n",
    "    def forward(self, x):\n",
    "        x = x.view(-1, nz)\n",
    "        y = self.net(x)\n",
    "        y = y.view(-1, 1, w, h) # 784 -> 1x28x28\n",
    "        return y"
   ]
  },
  {
   "cell_type": "markdown",
   "metadata": {},
   "source": [
    "## 条件の埋め込み\n",
    "\n",
    "条件の情報をノイズに埋め込む。対応する部分だけ少し大きな値をとるようにした。"
   ]
  },
  {
   "cell_type": "code",
   "execution_count": null,
   "metadata": {},
   "outputs": [],
   "source": [
    "eye = torch.eye(n_classes, device=device)\n",
    "def make_noise(labels):\n",
    "    labels = eye[labels]\n",
    "    labels = labels.repeat_interleave(nz // n_classes, dim=-1)\n",
    "    z = torch.normal(0, noise_std, size=(len(labels), nz), device=device)\n",
    "    z = z + labels\n",
    "    return z"
   ]
  },
  {
   "cell_type": "markdown",
   "metadata": {},
   "source": [
    "こんな感じ。0の場合は0~9, 1の場合は10~19, 2の場合は20~29 ... の部分が大きくなっている"
   ]
  },
  {
   "cell_type": "code",
   "execution_count": null,
   "metadata": {},
   "outputs": [],
   "source": [
    "import matplotlib.pyplot as plt\n",
    "\n",
    "plt.figure(figsize=(13, 5))\n",
    "for label in range(10):\n",
    "    plt.subplot(2, 5, label+1)\n",
    "    vec = make_noise(torch.tensor([label])).cpu().ravel()\n",
    "    plt.plot(vec)\n",
    "    plt.title(label)\n",
    "plt.tight_layout()"
   ]
  },
  {
   "cell_type": "markdown",
   "metadata": {},
   "source": [
    "こう見るとわかり辛いが、移動平均をとるとしっかりと特徴が表れているのが分かる"
   ]
  },
  {
   "cell_type": "code",
   "execution_count": null,
   "metadata": {},
   "outputs": [],
   "source": [
    "import numpy as np\n",
    "\n",
    "plt.figure(figsize=(13, 5))\n",
    "for label in range(10):\n",
    "    plt.subplot(2, 5, label+1)\n",
    "    vec = make_noise(torch.tensor([label])).cpu().numpy().ravel()\n",
    "    vec = np.convolve(vec, np.ones(n_classes) / n_classes)\n",
    "    plt.plot(vec)\n",
    "    plt.title(label)\n",
    "plt.tight_layout()"
   ]
  },
  {
   "cell_type": "markdown",
   "metadata": {},
   "source": [
    "## 学習"
   ]
  },
  {
   "cell_type": "code",
   "execution_count": null,
   "metadata": {},
   "outputs": [],
   "source": [
    "# 画像描画\n",
    "def write(netG, n_rows=1, size=64):\n",
    "    n_images = n_rows * n_classes\n",
    "    z = make_noise(torch.tensor(list(range(n_classes)) * n_rows))\n",
    "    images = netG(z)\n",
    "    images = transforms.Resize(size)(images)\n",
    "    img = torchvision.utils.make_grid(images, n_images // n_rows)\n",
    "    img = transforms.functional.to_pil_image(img)\n",
    "    display(img)\n",
    "\n",
    "# 間違ったラベルの生成\n",
    "def make_false_labels(labels):\n",
    "    diff = torch.randint(1, n_classes, size=labels.size(), device=device)\n",
    "    fake_labels = (labels + diff) % n_classes\n",
    "    return fake_labels"
   ]
  },
  {
   "cell_type": "code",
   "execution_count": null,
   "metadata": {},
   "outputs": [],
   "source": [
    "fake_labels = torch.zeros(batch_size, 1).to(device)\n",
    "real_labels = torch.ones(batch_size, 1).to(device)\n",
    "criterion = nn.BCELoss()\n",
    "\n",
    "def train(netD, netG, optimD, optimG, n_epochs, write_interval=1):\n",
    "    # 学習モード\n",
    "    netD.train()\n",
    "    netG.train()\n",
    "\n",
    "    for epoch in range(1, n_epochs+1):\n",
    "        for X, labels in dataloader:\n",
    "            X = X.to(device) # 本物の画像\n",
    "            labels = labels.to(device) # 正しいラベル\n",
    "            false_labels = make_false_labels(labels) # 間違ったラベル\n",
    "\n",
    "            # 勾配をリセット\n",
    "            optimD.zero_grad()\n",
    "            optimG.zero_grad()\n",
    "\n",
    "            # Discriminatorの学習\n",
    "            z = make_noise(labels) # ノイズを生成\n",
    "            fake = netG(z) # 偽物を生成\n",
    "            pred_fake = netD(fake, labels) # 偽物を判定\n",
    "            pred_real_true = netD(X, labels) # 本物&正しいラベルを判定\n",
    "            pred_real_false = netD(X, false_labels) # 本物&間違ったラベルを判定\n",
    "            # 誤差を計算\n",
    "            loss_fake = criterion(pred_fake, fake_labels)\n",
    "            loss_real_true = criterion(pred_real_true, real_labels)\n",
    "            loss_real_false = criterion(pred_real_false, fake_labels)\n",
    "            lossD = loss_fake + loss_real_true + loss_real_false\n",
    "            lossD.backward() # 逆伝播\n",
    "            optimD.step() # パラメータ更新\n",
    "\n",
    "            # Generatorの学習\n",
    "            fake = netG(z) # 偽物を生成\n",
    "            pred = netD(fake, labels) # 偽物を判定\n",
    "            lossG = criterion(pred, real_labels) # 誤差を計算\n",
    "            lossG.backward() # 逆伝播\n",
    "            optimG.step() # パラメータ更新\n",
    "\n",
    "        print(f'{epoch:>3}epoch | lossD: {lossD:.4f}, lossG: {lossG:.4f}')\n",
    "        if write_interval and epoch % write_interval == 0:\n",
    "            write(netG)"
   ]
  },
  {
   "cell_type": "code",
   "execution_count": null,
   "metadata": {},
   "outputs": [],
   "source": [
    "netD = Discriminator().to(device)\n",
    "netG = Generator().to(device)\n",
    "optimD = optim.Adam(netD.parameters(), lr=0.0002)\n",
    "optimG = optim.Adam(netG.parameters(), lr=0.0002)\n",
    "n_epochs = 5\n",
    "\n",
    "print('初期状態')\n",
    "write(netG)\n",
    "train(netD, netG, optimD, optimG, n_epochs)"
   ]
  },
  {
   "attachments": {},
   "cell_type": "markdown",
   "metadata": {},
   "source": [
    "数値ごとの特徴はとらえられている。ただちょっと形が崩れているので、もう少し学習させてみる。"
   ]
  },
  {
   "cell_type": "code",
   "execution_count": null,
   "metadata": {},
   "outputs": [],
   "source": [
    "train(netD, netG, optimD, optimG, 30, 5)"
   ]
  },
  {
   "attachments": {},
   "cell_type": "markdown",
   "metadata": {},
   "source": [
    "学習が完了した。最終的に完成したGeneratorで10個ずつ画像を生成してみる。"
   ]
  },
  {
   "cell_type": "code",
   "execution_count": null,
   "metadata": {},
   "outputs": [],
   "source": [
    "write(netG, 10)"
   ]
  },
  {
   "attachments": {},
   "cell_type": "markdown",
   "metadata": {},
   "source": [
    "まだ形が崩れているが、数字を認識できる程度にはなっている。"
   ]
  },
  {
   "attachments": {},
   "cell_type": "markdown",
   "metadata": {},
   "source": [
    "## CDCGAN\n",
    "\n",
    "*Conditional Deep Convolitional GAN*\n",
    "\n",
    "条件付きDCGAN。GeneratorとDiscriminatorにCNNを使うだけ。画像がきれいになることを期待する。"
   ]
  },
  {
   "attachments": {},
   "cell_type": "markdown",
   "metadata": {},
   "source": [
    "### Discriminator\n",
    "\n",
    "畳み込みで得た特徴ベクトルに、ラベル（条件）のone-hotベクトルを結合して、全結合層に入力する。"
   ]
  },
  {
   "cell_type": "code",
   "execution_count": null,
   "metadata": {},
   "outputs": [],
   "source": [
    "class Discriminator(nn.Module):\n",
    "    def __init__(self):\n",
    "        super().__init__()\n",
    "        self.conv = nn.Sequential(\n",
    "            self._conv_layer(1, 16, 4, 2, 1),\n",
    "            self._conv_layer(16, 32, 4, 2, 1),\n",
    "            self._conv_layer(32, 64, 3, 2, 0),\n",
    "            nn.Conv2d(64, 128, 3, 1, 0),\n",
    "            nn.Flatten()\n",
    "        )\n",
    "\n",
    "        self.fc = nn.Sequential(\n",
    "            nn.Linear(128 + n_classes, 64),\n",
    "            nn.ReLU(),\n",
    "            nn.Linear(64, 1),\n",
    "            nn.Sigmoid()\n",
    "        )\n",
    "\n",
    "        self._eye = torch.eye(n_classes, device=device) # 条件ベクトル生成用の単位行列\n",
    "\n",
    "    def _conv_layer(self, in_channels, out_channels, kernel_size, stride, padding):\n",
    "        return nn.Sequential(\n",
    "            nn.Conv2d(in_channels, out_channels, kernel_size, stride, padding),\n",
    "            nn.BatchNorm2d(out_channels),\n",
    "            nn.ReLU()\n",
    "        )\n",
    "\n",
    "    def forward(self, x, labels):\n",
    "        x = self.conv(x) # 特徴抽出\n",
    "        labels = self._eye[labels] # 条件(ラベル)をone-hotベクトルに\n",
    "        x = torch.cat([x, labels], dim=1) # 画像と条件を結合\n",
    "        y = self.fc(x)\n",
    "        return y"
   ]
  },
  {
   "attachments": {},
   "cell_type": "markdown",
   "metadata": {},
   "source": [
    "### Generator\n",
    "\n",
    "先ほど同様、条件の情報はノイズに持たせる。"
   ]
  },
  {
   "cell_type": "code",
   "execution_count": null,
   "metadata": {},
   "outputs": [],
   "source": [
    "class Generator(nn.Module):\n",
    "    def __init__(self):\n",
    "        super().__init__()\n",
    "        self.net = nn.Sequential(\n",
    "            self._convT(nz, 128, 3, 1, 0),\n",
    "            self._convT(128, 64, 3, 2, 0),\n",
    "            self._convT(64, 32, 4, 2, 1),\n",
    "            nn.ConvTranspose2d(32, 1, 4, 2, 1),\n",
    "            nn.Sigmoid()\n",
    "        )\n",
    "\n",
    "    def _convT(self, in_channels, out_channels, kernel_size, stride, padding):\n",
    "        return nn.Sequential(\n",
    "            nn.ConvTranspose2d(in_channels, out_channels, kernel_size, stride, padding),\n",
    "            nn.BatchNorm2d(out_channels),\n",
    "            nn.ReLU()\n",
    "        )\n",
    "\n",
    "    def forward(self, x):\n",
    "        x = x.view(-1, nz, 1, 1)\n",
    "        y = self.net(x)\n",
    "        return y"
   ]
  },
  {
   "attachments": {},
   "cell_type": "markdown",
   "metadata": {},
   "source": [
    "### 学習"
   ]
  },
  {
   "attachments": {},
   "cell_type": "markdown",
   "metadata": {},
   "source": [
    "まずは5epoch"
   ]
  },
  {
   "cell_type": "code",
   "execution_count": null,
   "metadata": {},
   "outputs": [],
   "source": [
    "netD = Discriminator().to(device)\n",
    "netG = Generator().to(device)\n",
    "optimD = optim.Adam(netD.parameters(), lr=0.0002)\n",
    "optimG = optim.Adam(netG.parameters(), lr=0.0002)\n",
    "n_epochs = 5\n",
    "\n",
    "print('初期状態')\n",
    "write(netG)\n",
    "train(netD, netG, optimD, optimG, n_epochs)"
   ]
  },
  {
   "attachments": {},
   "cell_type": "markdown",
   "metadata": {},
   "source": [
    "線が綺麗になっている。追加でもう20epoch学習させてみる。"
   ]
  },
  {
   "cell_type": "code",
   "execution_count": null,
   "metadata": {},
   "outputs": [],
   "source": [
    "train(netD, netG, optimD, optimG, 30, 10)"
   ]
  },
  {
   "cell_type": "code",
   "execution_count": null,
   "metadata": {},
   "outputs": [],
   "source": [
    "write(netG, 10)"
   ]
  },
  {
   "attachments": {},
   "cell_type": "markdown",
   "metadata": {},
   "source": [
    "線は綺麗だが、少し形が乱れることがあるよう。"
   ]
  },
  {
   "attachments": {},
   "cell_type": "markdown",
   "metadata": {},
   "source": [
    "## 生成器に与える条件をいじる\n",
    "\n",
    "生成器に与えるノイズには条件の情報を持たせているが、その条件を変な風にいじったらどうなるのか。"
   ]
  },
  {
   "cell_type": "code",
   "execution_count": null,
   "metadata": {},
   "outputs": [],
   "source": [
    "def write_from_label(netG, label, n_images=10, size=64):\n",
    "    labels = torch.tensor([label]*n_images).to(device)\n",
    "    labels = labels.repeat_interleave(nz // n_classes, dim=-1)\n",
    "    z = torch.normal(0, noise_std, size=(len(labels), nz), device=device)\n",
    "    z = z + labels\n",
    "    images = netG(z)\n",
    "    images = transforms.Resize(size)(images)\n",
    "    img = torchvision.utils.make_grid(images, len(z))\n",
    "    img = transforms.functional.to_pil_image(img)\n",
    "    display(img)"
   ]
  },
  {
   "attachments": {},
   "cell_type": "markdown",
   "metadata": {},
   "source": [
    "### 偏りを変化させる\n",
    "\n",
    "現在は正規分布に従ってノイズを生成した後、生成したい数字に対応する箇所に1を足すことで条件の情報をノイズに持たせている。ではこの**1**を変化させるとどうなるか\n",
    "\n",
    "まずは大きくしてみる（1 -> 10）"
   ]
  },
  {
   "cell_type": "code",
   "execution_count": null,
   "metadata": {},
   "outputs": [],
   "source": [
    "label = [0, 0, 0, 0, 0, 10, 0, 0, 0, 0]\n",
    "write_from_label(netG, label)"
   ]
  },
  {
   "attachments": {},
   "cell_type": "markdown",
   "metadata": {},
   "source": [
    "特徴はしっかり捉えられている。そして乱数の影響が少なくなるので、生成される画像はほぼ同じになる。\n",
    "\n",
    "次に小さくしてみる（1 -> 0.5）"
   ]
  },
  {
   "cell_type": "code",
   "execution_count": null,
   "metadata": {},
   "outputs": [],
   "source": [
    "label = [0, 0, 0, 0, 0, 0.5, 0, 0, 0, 0]\n",
    "write_from_label(netG, label)"
   ]
  },
  {
   "attachments": {},
   "cell_type": "markdown",
   "metadata": {},
   "source": [
    "条件の制約が弱まり、バラバラな画像になった。特徴はぎりぎり捉えられているか。"
   ]
  },
  {
   "attachments": {},
   "cell_type": "markdown",
   "metadata": {},
   "source": [
    "### 二つの数字を条件に入れる\n",
    "\n",
    "現在生成したい数字に対応する箇所が大きくなるようにしている。では、複数の個所を大きくしたらどうなるのか。\n",
    "\n",
    "3と6を大きくしてみよう"
   ]
  },
  {
   "cell_type": "code",
   "execution_count": null,
   "metadata": {},
   "outputs": [],
   "source": [
    "label = [0, 0, 0, 1, 0, 0, 1, 0, 0, 0]\n",
    "write_from_label(netG, label)"
   ]
  },
  {
   "attachments": {},
   "cell_type": "markdown",
   "metadata": {},
   "source": [
    "基本的には3または6だが、たまに3と6が混ざったような画像も生成される。"
   ]
  },
  {
   "attachments": {},
   "cell_type": "markdown",
   "metadata": {},
   "source": [
    "### 何も与えない\n",
    "\n",
    "ただの乱数をそのまま与えてみる"
   ]
  },
  {
   "cell_type": "code",
   "execution_count": null,
   "metadata": {},
   "outputs": [],
   "source": [
    "label = [0, 0, 0, 0, 0, 0, 0, 0, 0, 0]\n",
    "write_from_label(netG, label)"
   ]
  },
  {
   "attachments": {},
   "cell_type": "markdown",
   "metadata": {},
   "source": [
    "ごちゃごちゃ。乱数によって生まれた偏りによって数字っぽくなることもある様子。"
   ]
  },
  {
   "attachments": {},
   "cell_type": "markdown",
   "metadata": {},
   "source": [
    "### 全部与える\n",
    "\n",
    "全部の個所を大きくしてみる"
   ]
  },
  {
   "cell_type": "code",
   "execution_count": null,
   "metadata": {},
   "outputs": [],
   "source": [
    "label = [1, 1, 1, 1, 1, 1, 1, 1, 1, 1]\n",
    "write_from_label(netG, label)"
   ]
  },
  {
   "attachments": {},
   "cell_type": "markdown",
   "metadata": {},
   "source": [
    "おー、って感じ。"
   ]
  }
 ],
 "metadata": {
  "kernelspec": {
   "display_name": "Python 3.9.7 ('.venv': venv)",
   "language": "python",
   "name": "python3"
  },
  "language_info": {
   "codemirror_mode": {
    "name": "ipython",
    "version": 3
   },
   "file_extension": ".py",
   "mimetype": "text/x-python",
   "name": "python",
   "nbconvert_exporter": "python",
   "pygments_lexer": "ipython3",
   "version": "3.9.7 (default, Oct 26 2022, 17:40:16) \n[GCC 9.4.0]"
  },
  "orig_nbformat": 4,
  "vscode": {
   "interpreter": {
    "hash": "d2e154008a0c351e626d1a33c87cb897d92e8d0c1f7d08dda155547637fefe3a"
   }
  }
 },
 "nbformat": 4,
 "nbformat_minor": 2
}
