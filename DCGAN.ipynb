{
 "cells": [
  {
   "cell_type": "markdown",
   "metadata": {},
   "source": [
    "# DCGAN\n",
    "\n",
    "*Deep Convolitional GAN*\n",
    "\n",
    "畳み込み層を用いたGAN。DCGANではなく普通にGANと呼ばれることも多い。"
   ]
  },
  {
   "cell_type": "code",
   "execution_count": null,
   "metadata": {},
   "outputs": [],
   "source": [
    "import torch\n",
    "from torch import nn, optim\n",
    "from torch.utils.data import DataLoader\n",
    "import torchvision\n",
    "from torchvision.datasets import MNIST\n",
    "from torchvision import transforms\n",
    "from IPython.display import display\n",
    "from tqdm import tqdm\n",
    "\n",
    "\n",
    "batch_size = 64\n",
    "nz = 100\n",
    "device = torch.device(\"cuda\" if torch.cuda.is_available() else \"cpu\")"
   ]
  },
  {
   "cell_type": "markdown",
   "metadata": {},
   "source": [
    "## MNIST"
   ]
  },
  {
   "cell_type": "code",
   "execution_count": null,
   "metadata": {},
   "outputs": [],
   "source": [
    "dataset = MNIST(\n",
    "    root=\"datasets/\",\n",
    "    train=True,\n",
    "    download=True,\n",
    "    transform=transforms.ToTensor()\n",
    ")\n",
    "\n",
    "dataloader = DataLoader(\n",
    "    dataset,\n",
    "    batch_size=batch_size,\n",
    "    shuffle=True,\n",
    "    drop_last=True\n",
    ")\n",
    "\n",
    "sample_x, _ = next(iter(dataloader))\n",
    "print(\"batch shape: \", sample_x.shape)"
   ]
  },
  {
   "cell_type": "markdown",
   "metadata": {},
   "source": [
    "## Discriminator\n",
    "\n"
   ]
  },
  {
   "cell_type": "code",
   "execution_count": null,
   "metadata": {},
   "outputs": [],
   "source": [
    "class Discriminator(nn.Module):\n",
    "    def __init__(self):\n",
    "        super().__init__()\n",
    "        self.net = nn.Sequential(\n",
    "            self._conv(1, 16, 4, 2, 1),\n",
    "            self._conv(16, 32, 4, 2, 1),\n",
    "            self._conv(32, 64, 3, 2, 0),\n",
    "            nn.Conv2d(64, 128, 3, 1, 0),\n",
    "            nn.Flatten(),\n",
    "            nn.Linear(128, 1),\n",
    "            nn.Sigmoid(),\n",
    "        )\n",
    "\n",
    "    def _conv(self, in_channels, out_channels, kernel_size, stride, padding):\n",
    "        return nn.Sequential(\n",
    "            nn.Conv2d(in_channels, out_channels, kernel_size, stride, padding),\n",
    "            nn.BatchNorm2d(out_channels),\n",
    "            nn.LeakyReLU(0.2)\n",
    "        )\n",
    "\n",
    "    def forward(self, x):\n",
    "        y = self.net(x)\n",
    "        return y"
   ]
  },
  {
   "cell_type": "markdown",
   "metadata": {},
   "source": [
    "## Generator"
   ]
  },
  {
   "cell_type": "code",
   "execution_count": null,
   "metadata": {},
   "outputs": [],
   "source": [
    "class Generator(nn.Module):\n",
    "    def __init__(self, nz):\n",
    "        super().__init__()\n",
    "        self.net = nn.Sequential(\n",
    "            self._convT(nz, 128, 3, 1, 0),\n",
    "            self._convT(128, 64, 3, 2, 0),\n",
    "            self._convT(64, 32, 4, 2, 1),\n",
    "            nn.ConvTranspose2d(32, 1, 4, 2, 1),\n",
    "            nn.Sigmoid()\n",
    "        )\n",
    "\n",
    "    def _convT(self, in_channels, out_channels, kernel_size, stride, padding):\n",
    "        return nn.Sequential(\n",
    "            nn.ConvTranspose2d(in_channels, out_channels, kernel_size, stride, padding),\n",
    "            nn.BatchNorm2d(out_channels),\n",
    "            nn.ReLU()\n",
    "        )\n",
    "\n",
    "    def forward(self, x):\n",
    "        y = self.net(x)\n",
    "        return y"
   ]
  },
  {
   "cell_type": "markdown",
   "metadata": {},
   "source": [
    "## 学習"
   ]
  },
  {
   "cell_type": "code",
   "execution_count": null,
   "metadata": {},
   "outputs": [],
   "source": [
    "def make_noise(batch_size):\n",
    "    return torch.randn(batch_size, nz, 1, 1, device=device)\n",
    "\n",
    "def write(netG, n_rows=1, n_cols=8, size=64):\n",
    "    z = make_noise(n_rows*n_cols)\n",
    "    images = netG(z)\n",
    "    images = transforms.Resize(size)(images)\n",
    "    img = torchvision.utils.make_grid(images, n_cols)\n",
    "    img = transforms.functional.to_pil_image(img)\n",
    "    display(img)"
   ]
  },
  {
   "cell_type": "code",
   "execution_count": null,
   "metadata": {},
   "outputs": [],
   "source": [
    "fake_labels = torch.zeros(batch_size, 1).to(device)\n",
    "real_labels = torch.ones(batch_size, 1).to(device)\n",
    "criterion = nn.BCELoss()\n",
    "\n",
    "def train(netD, netG, optimD, optimG, n_epochs, write_interval=1, progress=True, print_interval=1):\n",
    "    netD.train()\n",
    "    netG.train()\n",
    "    for epoch in range(n_epochs):\n",
    "        epoch += 1\n",
    "        lossD_list = []\n",
    "        lossG_list = []\n",
    "        for X, _ in tqdm(dataloader, disable=not progress):\n",
    "            X = X.to(device)\n",
    "            optimD.zero_grad()\n",
    "            optimG.zero_grad()\n",
    "\n",
    "            z = make_noise(batch_size)\n",
    "            fake = netG(z)\n",
    "            pred_fake = netD(fake)\n",
    "            pred_real = netD(X)\n",
    "            loss_fake = criterion(pred_fake, fake_labels)\n",
    "            loss_real = criterion(pred_real, real_labels)\n",
    "            lossD = loss_fake + loss_real\n",
    "            lossD.backward()\n",
    "            optimD.step()\n",
    "\n",
    "            fake = netG(z)\n",
    "            pred = netD(fake)\n",
    "            lossG = criterion(pred, real_labels)\n",
    "            lossG.backward()\n",
    "            optimG.step()\n",
    "\n",
    "            lossD_list.append(lossD.item())\n",
    "            lossG_list.append(lossG.item())\n",
    "\n",
    "        if print_interval and epoch % print_interval == 0:\n",
    "            print(f'{epoch:>3}epoch | lossD: {lossD}, lossG: {lossG}')\n",
    "        if write_interval and epoch % write_interval == 0:\n",
    "            write(netG)"
   ]
  },
  {
   "cell_type": "code",
   "execution_count": null,
   "metadata": {},
   "outputs": [],
   "source": [
    "netD = Discriminator().to(device)\n",
    "netG = Generator(nz).to(device)\n",
    "optimD = optim.Adam(netD.parameters(), lr=0.0002)\n",
    "optimG = optim.Adam(netG.parameters(), lr=0.0002)\n",
    "n_epochs = 30\n",
    "\n",
    "train(netD, netG, optimD, optimG, n_epochs, 5, False)"
   ]
  },
  {
   "cell_type": "code",
   "execution_count": null,
   "metadata": {},
   "outputs": [],
   "source": [
    "write(netG, 4)"
   ]
  },
  {
   "attachments": {},
   "cell_type": "markdown",
   "metadata": {},
   "source": [
    "\n",
    "---\n",
    "\n",
    "## ポケモンを作ってみる"
   ]
  },
  {
   "attachments": {},
   "cell_type": "markdown",
   "metadata": {},
   "source": [
    "### データセット\n",
    "\n",
    "[Pokemon Images Dataset | Kaggle](https://www.kaggle.com/kvpratama/pokemon-images-dataset)"
   ]
  },
  {
   "cell_type": "code",
   "execution_count": null,
   "metadata": {},
   "outputs": [],
   "source": [
    "from torchvision.datasets import ImageFolder\n",
    "\n",
    "dataset = ImageFolder(\n",
    "    \"datasets/pokemon\",\n",
    "    transform=transforms.Compose([\n",
    "        transforms.Resize(64),\n",
    "        transforms.ToTensor(),\n",
    "        transforms.RandomHorizontalFlip(),\n",
    "        transforms.RandomRotation(15),\n",
    "        transforms.ColorJitter(),\n",
    "    ])\n",
    ")\n",
    "dataloader = DataLoader(\n",
    "    dataset,\n",
    "    batch_size=batch_size,\n",
    "    shuffle=True,\n",
    "    drop_last=True\n",
    ")\n",
    "\n",
    "sample_x, _ = next(iter(dataloader))\n",
    "w, h = sample_x.shape[2:]\n",
    "image_size = w * h # 画像のサイズ\n",
    "print(\"batch shape:\", sample_x.shape)\n",
    "print(\"width:\", w)\n",
    "print(\"height:\", h)\n",
    "print(\"image size:\", image_size)"
   ]
  },
  {
   "attachments": {},
   "cell_type": "markdown",
   "metadata": {},
   "source": [
    "### Discriminator"
   ]
  },
  {
   "cell_type": "code",
   "execution_count": null,
   "metadata": {},
   "outputs": [],
   "source": [
    "class Discriminator(nn.Module):\n",
    "    def __init__(self):\n",
    "        super().__init__()\n",
    "        self.net = nn.Sequential(\n",
    "            self._conv(3, 32, 4, 2, 1), # 32\n",
    "            self._conv(32, 64, 4, 2, 1), # 16\n",
    "            self._conv(64, 128, 4, 2, 1), # 8\n",
    "            self._conv(128, 256, 4, 2, 1), # 4\n",
    "            nn.AdaptiveAvgPool2d(1),\n",
    "            nn.Flatten(),\n",
    "            nn.Linear(256, 1),\n",
    "            nn.Sigmoid(),\n",
    "        )\n",
    "\n",
    "    def _conv(self, in_channels, out_channels, kernel_size, stride, padding):\n",
    "        return nn.Sequential(\n",
    "            nn.Conv2d(in_channels, out_channels, kernel_size, stride, padding),\n",
    "            nn.BatchNorm2d(out_channels),\n",
    "            nn.LeakyReLU(0.2)\n",
    "        )\n",
    "\n",
    "    def forward(self, x):\n",
    "        y = self.net(x)\n",
    "        return y"
   ]
  },
  {
   "attachments": {},
   "cell_type": "markdown",
   "metadata": {},
   "source": [
    "### Generator"
   ]
  },
  {
   "cell_type": "code",
   "execution_count": null,
   "metadata": {},
   "outputs": [],
   "source": [
    "class Generator(nn.Module):\n",
    "    def __init__(self):\n",
    "        super().__init__()\n",
    "        self.net = nn.Sequential(\n",
    "            self._convT(nz, 256, 4, 1, 0), # 4\n",
    "            self._convT(256, 128, 4, 2, 1), # 8\n",
    "            self._convT(128, 64, 4, 2, 1), # 16\n",
    "            self._convT(64, 32, 4, 2, 1), # 32\n",
    "            nn.ConvTranspose2d(32, 3, 4, 2, 1), # 64\n",
    "            nn.Tanh()\n",
    "        )\n",
    "\n",
    "    def _convT(self, in_channels, out_channels, kernel_size, stride, padding):\n",
    "        return nn.Sequential(\n",
    "            nn.ConvTranspose2d(in_channels, out_channels, kernel_size, stride, padding),\n",
    "            nn.InstanceNorm2d(out_channels),\n",
    "            nn.ReLU()\n",
    "        )\n",
    "\n",
    "    def forward(self, x):\n",
    "        y = self.net(x)\n",
    "        return y"
   ]
  },
  {
   "attachments": {},
   "cell_type": "markdown",
   "metadata": {},
   "source": [
    "### 学習"
   ]
  },
  {
   "cell_type": "code",
   "execution_count": null,
   "metadata": {},
   "outputs": [],
   "source": [
    "# ノイズを生成する関数\n",
    "def make_noise(batch_size=batch_size):\n",
    "    return torch.randn(batch_size, nz, 1, 1, device=device)\n",
    "\n",
    "# 画像を生成して描画する関数\n",
    "def write(netG, n_rows=1, n_cols=8, size=64):\n",
    "    z = make_noise(n_rows*n_cols)\n",
    "    images = netG(z)\n",
    "    images = (images + 1) / 2\n",
    "    images = transforms.Resize(size)(images)\n",
    "    img = torchvision.utils.make_grid(images, n_cols)\n",
    "    img = transforms.functional.to_pil_image(img)\n",
    "    display(img)"
   ]
  },
  {
   "cell_type": "code",
   "execution_count": null,
   "metadata": {},
   "outputs": [],
   "source": [
    "real_labels = torch.zeros(batch_size, 1).to(device)\n",
    "fake_labels = torch.ones(batch_size, 1).to(device)\n",
    "criterion = nn.BCELoss()\n",
    "\n",
    "\n",
    "def train(netD, netG, optimD, optimG, n_epochs, draw_freq=10):\n",
    "    for epoch in range(1, n_epochs+1):\n",
    "        for x, _ in dataloader:\n",
    "            x = x * 2 - 1\n",
    "            x = x.to(device)\n",
    "\n",
    "            # 勾配をリセット\n",
    "            optimD.zero_grad()\n",
    "            optimG.zero_grad()\n",
    "\n",
    "            # 識別器の学習 -----------------------------------------------\n",
    "            z = make_noise()\n",
    "            fake = netG(z)\n",
    "            pred_fake = netD(fake)\n",
    "            pred_real = netD(x)\n",
    "            loss_fake = criterion(pred_fake, fake_labels)\n",
    "            loss_real = criterion(pred_real, real_labels)\n",
    "            lossD = loss_fake + loss_real\n",
    "            lossD.backward()\n",
    "            optimD.step()\n",
    "\n",
    "            # 生成器の学習 -----------------------------------------------\n",
    "            fake = netG(z)\n",
    "            pred = netD(fake)\n",
    "            lossG = criterion(pred, real_labels)\n",
    "            lossG.backward()\n",
    "            optimG.step()\n",
    "\n",
    "        if epoch % draw_freq == 0:\n",
    "            print(f'{epoch:>3}epoch | lossD: {lossD:.4f}, lossG: {lossG:.4f}')\n",
    "            write(netG)"
   ]
  },
  {
   "cell_type": "code",
   "execution_count": null,
   "metadata": {},
   "outputs": [],
   "source": [
    "netD = Discriminator().to(device)\n",
    "netG = Generator().to(device)\n",
    "optimD = optim.Adam(netD.parameters(), lr=0.0002)\n",
    "optimG = optim.Adam(netG.parameters(), lr=0.0002)\n",
    "\n",
    "write(netG)"
   ]
  },
  {
   "cell_type": "code",
   "execution_count": null,
   "metadata": {},
   "outputs": [],
   "source": [
    "train(netD, netG, optimD, optimG, 50, draw_freq=5)"
   ]
  }
 ],
 "metadata": {
  "kernelspec": {
   "display_name": "Python 3.9.7 ('.venv': venv)",
   "language": "python",
   "name": "python3"
  },
  "language_info": {
   "codemirror_mode": {
    "name": "ipython",
    "version": 3
   },
   "file_extension": ".py",
   "mimetype": "text/x-python",
   "name": "python",
   "nbconvert_exporter": "python",
   "pygments_lexer": "ipython3",
   "version": "3.9.7"
  },
  "orig_nbformat": 4,
  "vscode": {
   "interpreter": {
    "hash": "d2e154008a0c351e626d1a33c87cb897d92e8d0c1f7d08dda155547637fefe3a"
   }
  }
 },
 "nbformat": 4,
 "nbformat_minor": 2
}
