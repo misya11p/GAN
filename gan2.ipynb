{
 "cells": [
  {
   "cell_type": "markdown",
   "metadata": {},
   "source": [
    "# 再チャレンジ\n",
    "\n",
    "[【GAN + PyTorch】仕組みの解説とMNISTで画像生成 - ころがる狸](https://dajiro.com/entry/2020/05/23/153958)"
   ]
  },
  {
   "cell_type": "code",
   "execution_count": 183,
   "metadata": {},
   "outputs": [
    {
     "data": {
      "text/plain": [
       "'cpu'"
      ]
     },
     "execution_count": 183,
     "metadata": {},
     "output_type": "execute_result"
    }
   ],
   "source": [
    "import torch\n",
    "from torch import nn, optim\n",
    "from torch.utils.data import TensorDataset, DataLoader\n",
    "import torch.nn.functional as F\n",
    "import matplotlib.pyplot as plt\n",
    "\n",
    "device = 'cuda' if torch.cuda.is_available() else 'cpu'\n",
    "device"
   ]
  },
  {
   "cell_type": "code",
   "execution_count": 184,
   "metadata": {},
   "outputs": [
    {
     "data": {
      "text/plain": [
       "torch.Size([1000, 784])"
      ]
     },
     "execution_count": 184,
     "metadata": {},
     "output_type": "execute_result"
    }
   ],
   "source": [
    "from torchvision.datasets import MNIST\n",
    "from torchvision import transforms\n",
    "\n",
    "mnist = MNIST(\n",
    "    root='./data',\n",
    "    train=False,\n",
    "    transform=transforms.ToTensor(),\n",
    "    download=True)\n",
    "\n",
    "X = mnist.data.reshape(-1, 28*28).to(device) / 255\n",
    "X = X[:1000]\n",
    "X.shape"
   ]
  },
  {
   "cell_type": "code",
   "execution_count": 185,
   "metadata": {},
   "outputs": [],
   "source": [
    "class Generator(nn.Module):\n",
    "    def __init__(self):\n",
    "        super().__init__()\n",
    "        self.network = nn.Sequential(\n",
    "            nn.Linear(100, 128),\n",
    "            nn.ReLU(),\n",
    "            nn.Linear(128, 512),\n",
    "            nn.ReLU(),\n",
    "            nn.Linear(512, 512),\n",
    "            nn.ReLU(),\n",
    "            nn.Linear(512, 28*28),\n",
    "            nn.Sigmoid()\n",
    "        )\n",
    "\n",
    "    def forward(self, x):\n",
    "        return self.network(x)\n",
    "\n",
    "    def write(self, n):\n",
    "        noises = torch.randn(n, 100).to(device)\n",
    "        return self.network(noises)"
   ]
  },
  {
   "cell_type": "code",
   "execution_count": 186,
   "metadata": {},
   "outputs": [],
   "source": [
    "class Discriminator(nn.Module):\n",
    "    def __init__(self):\n",
    "        super().__init__()\n",
    "        self.network = nn.Sequential(\n",
    "            nn.Linear(28*28, 512),\n",
    "            nn.ReLU(),\n",
    "            nn.Linear(512, 128),\n",
    "            nn.ReLU(),\n",
    "            nn.Linear(128, 32),\n",
    "            nn.ReLU(),\n",
    "            nn.Linear(32, 1),\n",
    "            nn.Sigmoid()\n",
    "        )\n",
    "\n",
    "    def forward(self, x):\n",
    "        return self.network(x)"
   ]
  },
  {
   "cell_type": "code",
   "execution_count": 187,
   "metadata": {},
   "outputs": [],
   "source": [
    "class Discriminator(nn.Module):\n",
    "    def __init__(self):\n",
    "        super().__init__()\n",
    "        self.network = nn.Sequential(\n",
    "            nn.Linear(28*28, 128),\n",
    "            nn.ReLU(),\n",
    "            nn.Linear(128, 1),\n",
    "            nn.Sigmoid()\n",
    "        )\n",
    "\n",
    "    def forward(self, x):\n",
    "        return self.network(x)"
   ]
  },
  {
   "cell_type": "code",
   "execution_count": 188,
   "metadata": {},
   "outputs": [],
   "source": [
    "#generatorの定義\n",
    "class Generator(nn.Module):\n",
    "    def __init__(self, input_size = 100, hid1_size = 256,\n",
    "                 hid2_size = 512, hid3_size = 1024, batch_size = 4):\n",
    "        super().__init__()\n",
    "        # self.ngpu = ngpu\n",
    "        # self.b_size = batch_size\n",
    "        self.fc1 = nn.Linear(input_size, hid1_size)\n",
    "        self.fc2 = nn.Linear(hid1_size, hid2_size)\n",
    "        self.fc3 = nn.Linear(hid2_size, hid3_size)\n",
    "        self.fc4 = nn.Linear(hid3_size, 28 * 28 * 1)\n",
    "    \n",
    "        self.bn1 = nn.BatchNorm1d(hid1_size)\n",
    "        self.bn2 = nn.BatchNorm1d(hid2_size)\n",
    "        self.bn3 = nn.BatchNorm1d(hid3_size)\n",
    "        \n",
    "        self.LeakyReLU = nn.LeakyReLU(0.2)\n",
    "    \n",
    "    def forward(self, x):\n",
    "        x = self.LeakyReLU(self.fc1(x))\n",
    "        x = self.bn1(x)\n",
    "        x = self.LeakyReLU(self.fc2(x))\n",
    "        x = self.bn2(x)\n",
    "        x = self.LeakyReLU(self.fc3(x))\n",
    "        x = self.bn3(x)\n",
    "        x = torch.sigmoid(self.fc4(x))\n",
    "        return x\n",
    "\n",
    "#discriminatorの定義\n",
    "class Discriminator(nn.Module):\n",
    "    def __init__(self, hid1_size = 1024, hid2_size = 512,\n",
    "                 hid3_size = 256, batch_size = 4):\n",
    "        super(Discriminator, self).__init__()\n",
    "        # self.ngpu = ngpu\n",
    "        # self.b_size = batch_size\n",
    "        self.fc1 = nn.Linear(784, hid1_size)\n",
    "        self.fc2 = nn.Linear(hid1_size, hid2_size)\n",
    "        self.fc3 = nn.Linear(hid2_size, hid3_size)\n",
    "        self.fc4 = nn.Linear(hid3_size, 1)\n",
    "    \n",
    "        self.LeakyReLU = nn.LeakyReLU(0.2)\n",
    "    \n",
    "    def forward(self, x):\n",
    "        x = self.LeakyReLU(self.fc1(x))\n",
    "        x = self.LeakyReLU(self.fc2(x))\n",
    "        x = self.LeakyReLU(self.fc3(x))\n",
    "        x = torch.sigmoid(self.fc4(x))\n",
    "        return x"
   ]
  },
  {
   "cell_type": "code",
   "execution_count": 193,
   "metadata": {},
   "outputs": [],
   "source": [
    "def train(netD, netG, optimD, optimG, image):\n",
    "    batch_size = len(image)\n",
    "    label_real = torch.full((batch_size, 1), 0.)\n",
    "    label_fake = torch.full((batch_size, 1), 1.)\n",
    "\n",
    "\n",
    "    y_real = netD(image)\n",
    "    loss_real = F.binary_cross_entropy(y_real, label_real)\n",
    "    loss_real.backward(retain_graph=True)\n",
    "\n",
    "    noise = torch.randn((batch_size, 100))\n",
    "    fake = netG(noise)\n",
    "    y_fake = netD(fake)\n",
    "    loss_fake = F.binary_cross_entropy(y_fake, label_fake)\n",
    "    loss_fake.backward(retain_graph=True)\n",
    "\n",
    "    lossD = (loss_real + loss_fake) / 2\n",
    "    optimD.step()\n",
    "\n",
    "    y_fake = netD(fake)\n",
    "    lossG = F.binary_cross_entropy(y_fake, label_real)\n",
    "    lossG.backward(retain_graph=True)\n",
    "    optimG.step()\n",
    "\n",
    "\n",
    "    return lossD, lossG"
   ]
  },
  {
   "cell_type": "code",
   "execution_count": 194,
   "metadata": {},
   "outputs": [],
   "source": [
    "batch_size = 128\n",
    "lr = 0.001\n",
    "dataloader = DataLoader(dataset=mnist, batch_size=batch_size,)\n",
    "\n",
    "netD = Discriminator()\n",
    "netG = Generator()\n",
    "optimD = optim.Adam(netD.parameters(), lr=lr)\n",
    "optimG = optim.Adam(netG.parameters(), lr=lr)"
   ]
  },
  {
   "cell_type": "code",
   "execution_count": 196,
   "metadata": {},
   "outputs": [],
   "source": [
    "epochs = 20"
   ]
  },
  {
   "cell_type": "code",
   "execution_count": 199,
   "metadata": {},
   "outputs": [
    {
     "name": "stdout",
     "output_type": "stream",
     "text": [
      "  1epoch lossD:1.862645149230957e-09 lossG:100.0\n",
      "  2epoch lossD:1.862645149230957e-09 lossG:100.0\n",
      "  3epoch lossD:1.862645149230957e-09 lossG:100.0\n",
      "  4epoch lossD:1.862645149230957e-09 lossG:100.0\n",
      "  5epoch lossD:1.862645149230957e-09 lossG:100.0\n",
      "  6epoch lossD:1.862645149230957e-09 lossG:100.0\n",
      "  7epoch lossD:1.862645149230957e-09 lossG:100.0\n",
      "  8epoch lossD:1.862645149230957e-09 lossG:100.0\n",
      "  9epoch lossD:1.862645149230957e-09 lossG:100.0\n",
      " 10epoch lossD:0.0 lossG:100.0\n",
      " 11epoch lossD:0.0 lossG:100.0\n",
      " 12epoch lossD:0.0 lossG:100.0\n",
      " 13epoch lossD:0.0 lossG:100.0\n",
      " 14epoch lossD:0.0 lossG:100.0\n",
      " 15epoch lossD:0.004139489494264126 lossG:100.0\n",
      " 16epoch lossD:0.0006711593014188111 lossG:100.0\n",
      " 17epoch lossD:0.019109545275568962 lossG:77.34524536132812\n",
      " 18epoch lossD:0.0001292107190238312 lossG:67.38507080078125\n",
      " 19epoch lossD:0.02580072171986103 lossG:77.14562225341797\n",
      " 20epoch lossD:8.195641498787154e-08 lossG:94.677734375\n"
     ]
    }
   ],
   "source": [
    "for epoch in range(epochs):\n",
    "    for (image, _) in dataloader:\n",
    "        # image /= 255.\n",
    "        optimD.zero_grad()\n",
    "        optimG.zero_grad()\n",
    "        lossD, lossG = train(\n",
    "            netD, netG, optimD, optimG, image.reshape(-1, 784))\n",
    "    print(f'{epoch+1:>3}epoch lossD:{lossD} lossG:{lossG}')"
   ]
  },
  {
   "cell_type": "code",
   "execution_count": 198,
   "metadata": {},
   "outputs": [
    {
     "data": {
      "image/png": "[encoded data removed]",
      "text/plain": [
       "<Figure size 432x288 with 1 Axes>"
      ]
     },
     "metadata": {
      "needs_background": "light"
     },
     "output_type": "display_data"
    }
   ],
   "source": [
    "x = torch.randn(10, 100)\n",
    "img = netG(x)[0].reshape(28, 28).detach().numpy()\n",
    "plt.imshow(img, cmap=\"gray\");"
   ]
  },
  {
   "cell_type": "code",
   "execution_count": 215,
   "metadata": {},
   "outputs": [
    {
     "data": {
      "image/png": "[encoded data removed]",
      "text/plain": [
       "<Figure size 432x288 with 1 Axes>"
      ]
     },
     "metadata": {
      "needs_background": "light"
     },
     "output_type": "display_data"
    }
   ],
   "source": [
    "x = torch.randn(10, 100)\n",
    "img = netG(x)[0].reshape(28, 28).detach().numpy()\n",
    "plt.imshow(img, cmap=\"gray\");"
   ]
  },
  {
   "cell_type": "code",
   "execution_count": null,
   "metadata": {},
   "outputs": [],
   "source": []
  }
 ],
 "metadata": {
  "kernelspec": {
   "display_name": "Python 3.9.6 ('.venv': venv)",
   "language": "python",
   "name": "python3"
  },
  "language_info": {
   "codemirror_mode": {
    "name": "ipython",
    "version": 3
   },
   "file_extension": ".py",
   "mimetype": "text/x-python",
   "name": "python",
   "nbconvert_exporter": "python",
   "pygments_lexer": "ipython3",
   "version": "3.9.6"
  },
  "orig_nbformat": 4,
  "vscode": {
   "interpreter": {
    "hash": "37ed3b1c5e2780b0e8a5da5fb8b92ea58c827ecdcf5d33315c46ca232b094762"
   }
  }
 },
 "nbformat": 4,
 "nbformat_minor": 2
}
