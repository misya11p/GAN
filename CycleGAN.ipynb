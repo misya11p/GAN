{
 "cells": [
  {
   "attachments": {},
   "cell_type": "markdown",
   "metadata": {},
   "source": [
    "# Cycle GAN\n",
    "\n",
    "サイクルGAN。ある分布に従うデータを別の分布に変換するモデル。"
   ]
  },
  {
   "cell_type": "code",
   "execution_count": null,
   "metadata": {},
   "outputs": [],
   "source": []
  }
 ],
 "metadata": {
  "kernelspec": {
   "display_name": ".venv",
   "language": "python",
   "name": "python3"
  },
  "language_info": {
   "name": "python",
   "version": "3.9.7 (default, Oct 26 2022, 17:40:16) \n[GCC 9.4.0]"
  },
  "orig_nbformat": 4,
  "vscode": {
   "interpreter": {
    "hash": "d2e154008a0c351e626d1a33c87cb897d92e8d0c1f7d08dda155547637fefe3a"
   }
  }
 },
 "nbformat": 4,
 "nbformat_minor": 2
}
