{
 "cells": [
  {
   "attachments": {},
   "cell_type": "markdown",
   "metadata": {},
   "source": [
    "# GAN simple\n",
    "\n",
    "GANを簡単に理解して簡単に実装してみる．"
   ]
  },
  {
   "cell_type": "code",
   "execution_count": null,
   "metadata": {},
   "outputs": [],
   "source": [
    "import torch\n",
    "from torch import nn, optim\n",
    "from torch.utils.data import DataLoader\n",
    "import torchvision\n",
    "from torchvision.datasets import MNIST\n",
    "from torchvision import transforms\n",
    "from IPython.display import display\n",
    "\n",
    "batch_size = 64 # バッチサイズ\n",
    "nz = 100 # ノイズの次元数\n",
    "device = torch.device(\"cuda\" if torch.cuda.is_available() else \"cpu\")\n",
    "device"
   ]
  },
  {
   "attachments": {},
   "cell_type": "markdown",
   "metadata": {},
   "source": [
    "\n",
    "---\n",
    "\n",
    "## MNIST\n",
    "\n",
    "GANで手書き数字を生成する"
   ]
  },
  {
   "cell_type": "code",
   "execution_count": null,
   "metadata": {},
   "outputs": [],
   "source": [
    "dataset = MNIST(\n",
    "    root=\"datasets/\",\n",
    "    train=True,\n",
    "    download=True,\n",
    "    transform=transforms.ToTensor()\n",
    ")\n",
    "\n",
    "dataloader = DataLoader(\n",
    "    dataset,\n",
    "    batch_size=batch_size,\n",
    "    shuffle=True,\n",
    "    drop_last=True # バッチサイズがずれると面倒くさいので最後は切り捨て\n",
    ")\n",
    "\n",
    "sample_x, _ = next(iter(dataloader))\n",
    "w, h = sample_x.shape[2:]\n",
    "image_size = w * h # 画像のサイズ\n",
    "print(\"batch shape:\", sample_x.shape)\n",
    "print(\"width:\", w)\n",
    "print(\"height:\", h)\n",
    "print(\"image size:\", image_size)"
   ]
  },
  {
   "attachments": {},
   "cell_type": "markdown",
   "metadata": {},
   "source": [
    "\n",
    "---\n",
    "\n",
    "## 識別器\n",
    "\n",
    "*Discriminator*\n",
    "\n",
    "$28 \\times 28 = 784$次元のベクトルを入力し，$0 \\sim 1$の確率を出力するNN．確率は入力画像が**偽物**である確率を表す．  \n",
    "全結合層とReLUで構築する．"
   ]
  },
  {
   "cell_type": "code",
   "execution_count": null,
   "metadata": {},
   "outputs": [],
   "source": [
    "class Discriminator(nn.Module):\n",
    "    def __init__(self):\n",
    "        super().__init__()\n",
    "        self.net = nn.Sequential(\n",
    "            nn.Flatten(), # 1x28x28 -> 784\n",
    "            nn.Linear(image_size, 512), # 全結合層\n",
    "            nn.ReLU(), # ReLU\n",
    "            nn.Linear(512, 128),\n",
    "            nn.ReLU(),\n",
    "            nn.Linear(128, 1),\n",
    "            nn.Sigmoid(), # 0~1に\n",
    "        )\n",
    "\n",
    "    def forward(self, x):\n",
    "        y = self.net(x)\n",
    "        return y"
   ]
  },
  {
   "attachments": {},
   "cell_type": "markdown",
   "metadata": {},
   "source": [
    "\n",
    "---\n",
    "\n",
    "## 生成器\n",
    "\n",
    "*Generator*\n",
    "\n",
    "ノイズを入力して$28 \\times 28$の画像を出力するNN．各ピクセルの濃淡は$0 \\sim 1$の値で表す．1に近いほど白くなる．  \n",
    "全結合層とReLUとバッチ正規化で構築．バッチ正規化がないと上手くいかない．"
   ]
  },
  {
   "cell_type": "code",
   "execution_count": null,
   "metadata": {},
   "outputs": [],
   "source": [
    "class Generator(nn.Module):\n",
    "    def __init__(self):\n",
    "        super().__init__()\n",
    "        self.net = nn.Sequential(\n",
    "            self._linear_block(nz, 128),\n",
    "            self._linear_block(128, 256),\n",
    "            self._linear_block(256, 512),\n",
    "            nn.Linear(512, image_size),\n",
    "            nn.Sigmoid() # 濃淡を0~1に\n",
    "        )\n",
    "\n",
    "    def _linear_block(self, input_size, output_size):\n",
    "        return nn.Sequential(\n",
    "            nn.Linear(input_size, output_size), # 全結合層\n",
    "            nn.BatchNorm1d(output_size), # バッチ正規化\n",
    "            nn.ReLU() # ReLU\n",
    "        )\n",
    "\n",
    "    def forward(self, x):\n",
    "        y = self.net(x)\n",
    "        y = y.view(-1, 1, w, h) # 784 -> 1x28x28\n",
    "        return y"
   ]
  },
  {
   "attachments": {},
   "cell_type": "markdown",
   "metadata": {},
   "source": [
    "全結合→バッチ正規化→ReLUの流れを`_linear_block()`関数にまとめている．"
   ]
  },
  {
   "attachments": {},
   "cell_type": "markdown",
   "metadata": {},
   "source": [
    "\n",
    "---\n",
    "\n",
    "## 学習\n",
    "\n",
    "敵対的学習による学習．"
   ]
  },
  {
   "cell_type": "code",
   "execution_count": null,
   "metadata": {},
   "outputs": [],
   "source": [
    "# ノイズを生成する関数\n",
    "def make_noise(batch_size=batch_size):\n",
    "    return torch.randn(batch_size, nz, device=device)\n",
    "\n",
    "# 画像を生成して描画する関数\n",
    "def write(netG, n_rows=1, n_cols=8, size=64):\n",
    "    z = make_noise(n_rows*n_cols)\n",
    "    images = netG(z)\n",
    "    images = transforms.Resize(size)(images)\n",
    "    img = torchvision.utils.make_grid(images, n_cols)\n",
    "    img = transforms.functional.to_pil_image(img)\n",
    "    display(img)"
   ]
  },
  {
   "attachments": {},
   "cell_type": "markdown",
   "metadata": {},
   "source": [
    "### 識別器\n",
    "本物と偽物を正しく識別できるように学習する=本物を入れた時は0，偽物を入れた時は1を出力するように学習する．  \n",
    "損失関数には交差エントロピーを用いる．\n",
    "\n",
    "### 生成器\n",
    "識別器に0と出力されるような画像=本物に見える画像を生成するように学習する．  \n",
    "**0に近づきたい = 小さくしたい** と捉えられるので、識別器の出力をそのまま**損失**として扱って逆伝播を行う\n",
    "\n",
    "<br>\n",
    "\n",
    "指定したエポック数の学習を行う関数を定義する．\n",
    "\n",
    "- 引数\n",
    "    - 生成器\n",
    "    - 識別器\n",
    "    - 生成器の活性化関数\n",
    "    - 識別器の活性化関数\n",
    "    - エポック数"
   ]
  },
  {
   "cell_type": "code",
   "execution_count": null,
   "metadata": {},
   "outputs": [],
   "source": [
    "real_labels = torch.zeros(batch_size, 1).to(device) # 本物を表すラベル(0)\n",
    "fake_labels = torch.ones(batch_size, 1).to(device) # 偽物を表すラベル(1)\n",
    "criterion = nn.BCELoss() # 識別器用の誤差関数（交差エントロピー）\n",
    "\n",
    "\n",
    "def train(netD, netG, optimD, optimG, n_epochs):\n",
    "    for epoch in range(1, n_epochs+1):\n",
    "        for x, _ in dataloader: # 本物をバッチサイズ分取り出す\n",
    "            x = x.to(device)\n",
    "\n",
    "            # 勾配をリセット\n",
    "            optimD.zero_grad()\n",
    "            optimG.zero_grad()\n",
    "\n",
    "            # 識別器の学習 -----------------------------------------------\n",
    "            z = make_noise() # ノイズを生成\n",
    "            fake = netG(z) # ノイズから偽物を生成\n",
    "            pred_fake = netD(fake) # 偽物を判定\n",
    "            pred_real = netD(x) # 本物を判定\n",
    "            loss_fake = criterion(pred_fake, fake_labels) # 偽物の判定に対する誤差\n",
    "            loss_real = criterion(pred_real, real_labels) # 本物の判定に対する誤差\n",
    "            lossD = loss_fake + loss_real # 二つの誤差の和\n",
    "            lossD.backward() # 逆伝播\n",
    "            optimD.step() # パラメータ更新\n",
    "\n",
    "            # 生成器の学習 -----------------------------------------------\n",
    "            fake = netG(z) # 偽物を生成\n",
    "            pred = netD(fake) # 偽物を判定\n",
    "            lossG = pred.sum() # 和をとる\n",
    "            lossG.backward() # 逆伝播\n",
    "            optimG.step() # パラメータ更新\n",
    "\n",
    "        print(f'{epoch:>3}epoch | lossD: {lossD:.4f}, lossG: {lossG / batch_size:.4f}')\n",
    "        write(netG)"
   ]
  },
  {
   "attachments": {},
   "cell_type": "markdown",
   "metadata": {},
   "source": [
    "まず生成器，識別器を初期化する"
   ]
  },
  {
   "cell_type": "code",
   "execution_count": null,
   "metadata": {},
   "outputs": [],
   "source": [
    "netD = Discriminator().to(device)\n",
    "netG = Generator().to(device)\n",
    "optimD = optim.Adam(netD.parameters(), lr=0.0002)\n",
    "optimG = optim.Adam(netG.parameters(), lr=0.0002)\n",
    "\n",
    "write(netG)"
   ]
  },
  {
   "attachments": {},
   "cell_type": "markdown",
   "metadata": {},
   "source": [
    "生成器は初期状態で↑の様な画像を生成する．何も学習していないので，ランダムに数値を出力しているのと同じ．\n",
    "\n",
    "ここから学習させてみる．まずは5エポック．"
   ]
  },
  {
   "cell_type": "code",
   "execution_count": null,
   "metadata": {},
   "outputs": [],
   "source": [
    "train(netD, netG, optimD, optimG, 5)"
   ]
  },
  {
   "attachments": {},
   "cell_type": "markdown",
   "metadata": {},
   "source": [
    "いい感じに成長していそうなので，もう10エポック学習させてみる．"
   ]
  },
  {
   "cell_type": "code",
   "execution_count": null,
   "metadata": {},
   "outputs": [],
   "source": [
    "train(netD, netG, optimD, optimG, 10)"
   ]
  },
  {
   "attachments": {},
   "cell_type": "markdown",
   "metadata": {},
   "source": [
    "学習終了\n",
    "\n",
    "もう少したくさん見てみる"
   ]
  },
  {
   "cell_type": "code",
   "execution_count": null,
   "metadata": {},
   "outputs": [],
   "source": [
    "write(netG, 8)"
   ]
  },
  {
   "attachments": {},
   "cell_type": "markdown",
   "metadata": {},
   "source": [
    "少し荒いが，それっぽくはなった"
   ]
  }
 ],
 "metadata": {
  "kernelspec": {
   "display_name": ".venv",
   "language": "python",
   "name": "python3"
  },
  "language_info": {
   "codemirror_mode": {
    "name": "ipython",
    "version": 3
   },
   "file_extension": ".py",
   "mimetype": "text/x-python",
   "name": "python",
   "nbconvert_exporter": "python",
   "pygments_lexer": "ipython3",
   "version": "3.9.7"
  },
  "orig_nbformat": 4,
  "vscode": {
   "interpreter": {
    "hash": "d2e154008a0c351e626d1a33c87cb897d92e8d0c1f7d08dda155547637fefe3a"
   }
  }
 },
 "nbformat": 4,
 "nbformat_minor": 2
}
